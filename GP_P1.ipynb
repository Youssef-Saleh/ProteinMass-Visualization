{
 "cells": [
  {
   "cell_type": "code",
   "execution_count": 3,
   "metadata": {},
   "outputs": [],
   "source": [
    "import pandas as pd\n",
    "import numpy as np\n",
    "from Bio import SeqIO\n",
    "from Bio.Seq import Seq\n",
    "# from BCBio import GFF\n",
    "from gtfparse import read_gtf\n",
    "import pprint\n",
    "import csv\n",
    "import Bio.SeqUtils\n",
    "from Bio.SeqUtils.ProtParam import ProteinAnalysis\n",
    "from Bio.SeqUtils.ProtParam import molecular_weight\n",
    "\n",
    "# from BCBio.GFF import GFFExaminer"
   ]
  },
  {
   "source": [
    "import pandas as pd\n",
    "import numpy as np\n",
    "from Bio import SeqIO\n",
    "from Bio.Seq import Seq\n",
    "# from BCBio import GFF\n",
    "from gtfparse import read_gtf\n",
    "import pprint\n",
    "import csv\n",
    "import Bio.SeqUtils\n",
    "from Bio.SeqUtils.ProtParam import ProteinAnalysis\n",
    "from Bio.SeqUtils.ProtParam import molecular_weight\n",
    "\n",
    "# from BCBio.GFF import GFFExaminer"
   ],
   "cell_type": "code",
   "metadata": {},
   "execution_count": 4,
   "outputs": []
  },
  {
   "cell_type": "code",
   "execution_count": 6,
   "metadata": {},
   "outputs": [],
   "source": [
    "Dictionary = { \"genes\":[] ,\"proteins\":[], }\n"
   ]
  },
  {
   "cell_type": "code",
   "execution_count": 8,
   "metadata": {},
   "outputs": [
    {
     "output_type": "stream",
     "name": "stdout",
     "text": [
      "ID: chr22\nName: chr22\nDescription: chr22\nNumber of features: 0\nSeq('NNNNNNNNNNNNNNNNNNNNNNNNNNNNNNNNNNNNNNNNNNNNNNNNNNNNNN...NNN')\n"
     ]
    }
   ],
   "source": [
    "# reading the fasta file (one record)\n",
    "seq=[]\n",
    "seq_file = SeqIO.read(\"data/chr22.fa\", \"fasta\")\n",
    "print(seq_file)\n",
    "seq=seq_file.seq\n",
    "\n",
    "seq_length=len(seq)\n",
    "\n",
    "    "
   ]
  },
  {
   "cell_type": "code",
   "execution_count": 9,
   "metadata": {},
   "outputs": [
    {
     "output_type": "stream",
     "name": "stdout",
     "text": [
      "TGGTGGCTGAGGCTGGTTCAATGCCGGCTGCCTCCTCTGTGAAGAAGCCATTTGGTCTCAGAAGCAAGATGGGCAAGTGGTGCCGCCACTGCTTCGCCTGGTGCAGGGGGAGCGGCAAGAGCAACGTGGGCACTTCTGGAGACCACGACGATTCTGCTATGAAGACACTCAGGAGCAAGATGGGCAAGTGGTGCTGCCACTGCTTCCCCTGGTGCAGGGGGAGCGGCAAGAGCAACGTGGGCACTTCTGGAGACCACGACGATTCTGCTATGAAGACACTCAGGAGCAAGATGGGCAAGTGGTGCTGCCACTGCTTCCCCTGCTGCAGGGGGAGCGGCAAGAGCAACGTGGGCACTTCTGGAGACCACGACGACTCTGCTATGAAGACACTCAGGAGCAAGATGGGCAAGTGGTGCTGCCACTGCTTCCCCTGCTGCAGGGGGAGCGGCAAGAACAAAGTGGGCCCTTGGGGAGACTACGACGACAGCGCTTTCATGGAGCCGAGGTACCACGTCCGTCGAGAAGATCTGGACAAGCTCCACAGAGCTGCCTGGTGGGGTAAAGTCCCCAGAAAGGATCTCATCGTCATGCTCAAGGACACTGACATGAACAAGAAGGACAAGCAAAAGAG\n50818468\n"
     ]
    }
   ],
   "source": [
    "print(seq[15690078:15690709])\n",
    "print(seq_length)\n"
   ]
  },
  {
   "cell_type": "code",
   "execution_count": 10,
   "metadata": {},
   "outputs": [],
   "source": [
    "# #using sequence dictionary\n",
    "\n",
    "# in_seq_file = \"chr22.fa\"\n",
    "# in_seq_handle = open(in_seq_file)\n",
    "# seq_dict = SeqIO.to_dict(SeqIO.parse(in_seq_handle, \"fasta\"))\n",
    "# in_seq_handle.close()\n",
    "\n",
    "# print(seq_dict)\n"
   ]
  },
  {
   "cell_type": "code",
   "execution_count": 11,
   "metadata": {},
   "outputs": [],
   "source": [
    "# print(seq_dict[\"chr22\"].seq)"
   ]
  },
  {
   "cell_type": "code",
   "execution_count": 12,
   "metadata": {},
   "outputs": [],
   "source": [
    "\n",
    "# in_file = \"newgeneannotations.gtf\"\n",
    "\n",
    "# in_handle = open(in_file)\n",
    "# for rec in GFF.parse(in_handle):\n",
    "#     print(rec)\n",
    "        \n",
    "# in_handle.close()"
   ]
  },
  {
   "cell_type": "code",
   "execution_count": 13,
   "metadata": {},
   "outputs": [
    {
     "output_type": "stream",
     "name": "stderr",
     "text": [
      "INFO:root:Extracted GTF attributes: ['gene_id', 'transcript_id', 'gene_type', 'gene_name', 'transcript_type', 'transcript_name', 'exon_number', 'exon_id', 'level', 'protein_id', 'transcript_support_level', 'hgnc_id', 'tag', 'ccdsid', 'havana_gene', 'havana_transcript']\n"
     ]
    }
   ],
   "source": [
    "\n",
    "\n",
    "df = read_gtf(\"data/newgeneannotations.gtf\")\n"
   ]
  },
  {
   "cell_type": "code",
   "execution_count": 15,
   "metadata": {},
   "outputs": [
    {
     "output_type": "execute_result",
     "data": {
      "text/plain": [
       "     seqname  source feature     start       end  score strand frame  \\\n",
       "0      chr22  HAVANA     CDS  15690078  15690709    NaN      +     0   \n",
       "1      chr22  HAVANA     CDS  15695371  15695485    NaN      +     1   \n",
       "2      chr22  HAVANA     CDS  15695645  15695818    NaN      +     0   \n",
       "3      chr22  HAVANA     CDS  15698662  15698768    NaN      +     0   \n",
       "4      chr22  HAVANA     CDS  15700078  15700215    NaN      +     1   \n",
       "...      ...     ...     ...       ...       ...    ...    ...   ...   \n",
       "3902   chr22  HAVANA     CDS  50775772  50775851    NaN      -     2   \n",
       "3903   chr22  HAVANA     CDS  50769905  50770016    NaN      -     0   \n",
       "3904   chr22  HAVANA     CDS  50769455  50769549    NaN      -     2   \n",
       "3905   chr22  HAVANA     CDS  50769041  50769124    NaN      -     0   \n",
       "3906   chr22  HAVANA     CDS  50768779  50768874    NaN      -     0   \n",
       "\n",
       "                 gene_id       transcript_id  ... exon_number  \\\n",
       "0     ENSG00000198062.15  ENST00000343518.11  ...           1   \n",
       "1     ENSG00000198062.15  ENST00000343518.11  ...           2   \n",
       "2     ENSG00000198062.15  ENST00000343518.11  ...           3   \n",
       "3     ENSG00000198062.15  ENST00000343518.11  ...           4   \n",
       "4     ENSG00000198062.15  ENST00000343518.11  ...           5   \n",
       "...                  ...                 ...  ...         ...   \n",
       "3902  ENSG00000079974.18   ENST00000395598.7  ...           5   \n",
       "3903  ENSG00000079974.18   ENST00000395598.7  ...           6   \n",
       "3904  ENSG00000079974.18   ENST00000395598.7  ...           7   \n",
       "3905  ENSG00000079974.18   ENST00000395598.7  ...           8   \n",
       "3906  ENSG00000079974.18   ENST00000395598.7  ...           9   \n",
       "\n",
       "                exon_id level         protein_id transcript_support_level  \\\n",
       "0     ENSE00001413705.2     1  ENSP00000340610.6                        5   \n",
       "1     ENSE00001746577.1     1  ENSP00000340610.6                        5   \n",
       "2     ENSE00001788239.1     1  ENSP00000340610.6                        5   \n",
       "3     ENSE00003639359.1     1  ENSP00000340610.6                        5   \n",
       "4     ENSE00003623625.1     1  ENSP00000340610.6                        5   \n",
       "...                 ...   ...                ...                      ...   \n",
       "3902  ENSE00003635536.1     2  ENSP00000378962.3                        1   \n",
       "3903  ENSE00002474834.1     2  ENSP00000378962.3                        1   \n",
       "3904  ENSE00002489129.1     2  ENSP00000378962.3                        1   \n",
       "3905  ENSE00003570915.1     2  ENSP00000378962.3                        1   \n",
       "3906  ENSE00003666330.1     2  ENSP00000378962.3                        1   \n",
       "\n",
       "        hgnc_id                                                tag  \\\n",
       "0      HGNC:133  basic,MANE_Select,appris_principal_2,exp_conf,...   \n",
       "1      HGNC:133  basic,MANE_Select,appris_principal_2,exp_conf,...   \n",
       "2      HGNC:133  basic,MANE_Select,appris_principal_2,exp_conf,...   \n",
       "3      HGNC:133  basic,MANE_Select,appris_principal_2,exp_conf,...   \n",
       "4      HGNC:133  basic,MANE_Select,appris_principal_2,exp_conf,...   \n",
       "...         ...                                                ...   \n",
       "3902  HGNC:9800                    basic,appris_alternative_2,CCDS   \n",
       "3903  HGNC:9800                    basic,appris_alternative_2,CCDS   \n",
       "3904  HGNC:9800                    basic,appris_alternative_2,CCDS   \n",
       "3905  HGNC:9800                    basic,appris_alternative_2,CCDS   \n",
       "3906  HGNC:9800                    basic,appris_alternative_2,CCDS   \n",
       "\n",
       "           ccdsid           havana_gene     havana_transcript  \n",
       "0     CCDS74808.1  OTTHUMG00000140314.6  OTTHUMT00000276918.5  \n",
       "1     CCDS74808.1  OTTHUMG00000140314.6  OTTHUMT00000276918.5  \n",
       "2     CCDS74808.1  OTTHUMG00000140314.6  OTTHUMT00000276918.5  \n",
       "3     CCDS74808.1  OTTHUMG00000140314.6  OTTHUMT00000276918.5  \n",
       "4     CCDS74808.1  OTTHUMG00000140314.6  OTTHUMT00000276918.5  \n",
       "...           ...                   ...                   ...  \n",
       "3902  CCDS14102.1  OTTHUMG00000150156.5  OTTHUMT00000316606.1  \n",
       "3903  CCDS14102.1  OTTHUMG00000150156.5  OTTHUMT00000316606.1  \n",
       "3904  CCDS14102.1  OTTHUMG00000150156.5  OTTHUMT00000316606.1  \n",
       "3905  CCDS14102.1  OTTHUMG00000150156.5  OTTHUMT00000316606.1  \n",
       "3906  CCDS14102.1  OTTHUMG00000150156.5  OTTHUMT00000316606.1  \n",
       "\n",
       "[3907 rows x 24 columns]"
      ],
      "text/html": "<div>\n<style scoped>\n    .dataframe tbody tr th:only-of-type {\n        vertical-align: middle;\n    }\n\n    .dataframe tbody tr th {\n        vertical-align: top;\n    }\n\n    .dataframe thead th {\n        text-align: right;\n    }\n</style>\n<table border=\"1\" class=\"dataframe\">\n  <thead>\n    <tr style=\"text-align: right;\">\n      <th></th>\n      <th>seqname</th>\n      <th>source</th>\n      <th>feature</th>\n      <th>start</th>\n      <th>end</th>\n      <th>score</th>\n      <th>strand</th>\n      <th>frame</th>\n      <th>gene_id</th>\n      <th>transcript_id</th>\n      <th>...</th>\n      <th>exon_number</th>\n      <th>exon_id</th>\n      <th>level</th>\n      <th>protein_id</th>\n      <th>transcript_support_level</th>\n      <th>hgnc_id</th>\n      <th>tag</th>\n      <th>ccdsid</th>\n      <th>havana_gene</th>\n      <th>havana_transcript</th>\n    </tr>\n  </thead>\n  <tbody>\n    <tr>\n      <th>0</th>\n      <td>chr22</td>\n      <td>HAVANA</td>\n      <td>CDS</td>\n      <td>15690078</td>\n      <td>15690709</td>\n      <td>NaN</td>\n      <td>+</td>\n      <td>0</td>\n      <td>ENSG00000198062.15</td>\n      <td>ENST00000343518.11</td>\n      <td>...</td>\n      <td>1</td>\n      <td>ENSE00001413705.2</td>\n      <td>1</td>\n      <td>ENSP00000340610.6</td>\n      <td>5</td>\n      <td>HGNC:133</td>\n      <td>basic,MANE_Select,appris_principal_2,exp_conf,...</td>\n      <td>CCDS74808.1</td>\n      <td>OTTHUMG00000140314.6</td>\n      <td>OTTHUMT00000276918.5</td>\n    </tr>\n    <tr>\n      <th>1</th>\n      <td>chr22</td>\n      <td>HAVANA</td>\n      <td>CDS</td>\n      <td>15695371</td>\n      <td>15695485</td>\n      <td>NaN</td>\n      <td>+</td>\n      <td>1</td>\n      <td>ENSG00000198062.15</td>\n      <td>ENST00000343518.11</td>\n      <td>...</td>\n      <td>2</td>\n      <td>ENSE00001746577.1</td>\n      <td>1</td>\n      <td>ENSP00000340610.6</td>\n      <td>5</td>\n      <td>HGNC:133</td>\n      <td>basic,MANE_Select,appris_principal_2,exp_conf,...</td>\n      <td>CCDS74808.1</td>\n      <td>OTTHUMG00000140314.6</td>\n      <td>OTTHUMT00000276918.5</td>\n    </tr>\n    <tr>\n      <th>2</th>\n      <td>chr22</td>\n      <td>HAVANA</td>\n      <td>CDS</td>\n      <td>15695645</td>\n      <td>15695818</td>\n      <td>NaN</td>\n      <td>+</td>\n      <td>0</td>\n      <td>ENSG00000198062.15</td>\n      <td>ENST00000343518.11</td>\n      <td>...</td>\n      <td>3</td>\n      <td>ENSE00001788239.1</td>\n      <td>1</td>\n      <td>ENSP00000340610.6</td>\n      <td>5</td>\n      <td>HGNC:133</td>\n      <td>basic,MANE_Select,appris_principal_2,exp_conf,...</td>\n      <td>CCDS74808.1</td>\n      <td>OTTHUMG00000140314.6</td>\n      <td>OTTHUMT00000276918.5</td>\n    </tr>\n    <tr>\n      <th>3</th>\n      <td>chr22</td>\n      <td>HAVANA</td>\n      <td>CDS</td>\n      <td>15698662</td>\n      <td>15698768</td>\n      <td>NaN</td>\n      <td>+</td>\n      <td>0</td>\n      <td>ENSG00000198062.15</td>\n      <td>ENST00000343518.11</td>\n      <td>...</td>\n      <td>4</td>\n      <td>ENSE00003639359.1</td>\n      <td>1</td>\n      <td>ENSP00000340610.6</td>\n      <td>5</td>\n      <td>HGNC:133</td>\n      <td>basic,MANE_Select,appris_principal_2,exp_conf,...</td>\n      <td>CCDS74808.1</td>\n      <td>OTTHUMG00000140314.6</td>\n      <td>OTTHUMT00000276918.5</td>\n    </tr>\n    <tr>\n      <th>4</th>\n      <td>chr22</td>\n      <td>HAVANA</td>\n      <td>CDS</td>\n      <td>15700078</td>\n      <td>15700215</td>\n      <td>NaN</td>\n      <td>+</td>\n      <td>1</td>\n      <td>ENSG00000198062.15</td>\n      <td>ENST00000343518.11</td>\n      <td>...</td>\n      <td>5</td>\n      <td>ENSE00003623625.1</td>\n      <td>1</td>\n      <td>ENSP00000340610.6</td>\n      <td>5</td>\n      <td>HGNC:133</td>\n      <td>basic,MANE_Select,appris_principal_2,exp_conf,...</td>\n      <td>CCDS74808.1</td>\n      <td>OTTHUMG00000140314.6</td>\n      <td>OTTHUMT00000276918.5</td>\n    </tr>\n    <tr>\n      <th>...</th>\n      <td>...</td>\n      <td>...</td>\n      <td>...</td>\n      <td>...</td>\n      <td>...</td>\n      <td>...</td>\n      <td>...</td>\n      <td>...</td>\n      <td>...</td>\n      <td>...</td>\n      <td>...</td>\n      <td>...</td>\n      <td>...</td>\n      <td>...</td>\n      <td>...</td>\n      <td>...</td>\n      <td>...</td>\n      <td>...</td>\n      <td>...</td>\n      <td>...</td>\n      <td>...</td>\n    </tr>\n    <tr>\n      <th>3902</th>\n      <td>chr22</td>\n      <td>HAVANA</td>\n      <td>CDS</td>\n      <td>50775772</td>\n      <td>50775851</td>\n      <td>NaN</td>\n      <td>-</td>\n      <td>2</td>\n      <td>ENSG00000079974.18</td>\n      <td>ENST00000395598.7</td>\n      <td>...</td>\n      <td>5</td>\n      <td>ENSE00003635536.1</td>\n      <td>2</td>\n      <td>ENSP00000378962.3</td>\n      <td>1</td>\n      <td>HGNC:9800</td>\n      <td>basic,appris_alternative_2,CCDS</td>\n      <td>CCDS14102.1</td>\n      <td>OTTHUMG00000150156.5</td>\n      <td>OTTHUMT00000316606.1</td>\n    </tr>\n    <tr>\n      <th>3903</th>\n      <td>chr22</td>\n      <td>HAVANA</td>\n      <td>CDS</td>\n      <td>50769905</td>\n      <td>50770016</td>\n      <td>NaN</td>\n      <td>-</td>\n      <td>0</td>\n      <td>ENSG00000079974.18</td>\n      <td>ENST00000395598.7</td>\n      <td>...</td>\n      <td>6</td>\n      <td>ENSE00002474834.1</td>\n      <td>2</td>\n      <td>ENSP00000378962.3</td>\n      <td>1</td>\n      <td>HGNC:9800</td>\n      <td>basic,appris_alternative_2,CCDS</td>\n      <td>CCDS14102.1</td>\n      <td>OTTHUMG00000150156.5</td>\n      <td>OTTHUMT00000316606.1</td>\n    </tr>\n    <tr>\n      <th>3904</th>\n      <td>chr22</td>\n      <td>HAVANA</td>\n      <td>CDS</td>\n      <td>50769455</td>\n      <td>50769549</td>\n      <td>NaN</td>\n      <td>-</td>\n      <td>2</td>\n      <td>ENSG00000079974.18</td>\n      <td>ENST00000395598.7</td>\n      <td>...</td>\n      <td>7</td>\n      <td>ENSE00002489129.1</td>\n      <td>2</td>\n      <td>ENSP00000378962.3</td>\n      <td>1</td>\n      <td>HGNC:9800</td>\n      <td>basic,appris_alternative_2,CCDS</td>\n      <td>CCDS14102.1</td>\n      <td>OTTHUMG00000150156.5</td>\n      <td>OTTHUMT00000316606.1</td>\n    </tr>\n    <tr>\n      <th>3905</th>\n      <td>chr22</td>\n      <td>HAVANA</td>\n      <td>CDS</td>\n      <td>50769041</td>\n      <td>50769124</td>\n      <td>NaN</td>\n      <td>-</td>\n      <td>0</td>\n      <td>ENSG00000079974.18</td>\n      <td>ENST00000395598.7</td>\n      <td>...</td>\n      <td>8</td>\n      <td>ENSE00003570915.1</td>\n      <td>2</td>\n      <td>ENSP00000378962.3</td>\n      <td>1</td>\n      <td>HGNC:9800</td>\n      <td>basic,appris_alternative_2,CCDS</td>\n      <td>CCDS14102.1</td>\n      <td>OTTHUMG00000150156.5</td>\n      <td>OTTHUMT00000316606.1</td>\n    </tr>\n    <tr>\n      <th>3906</th>\n      <td>chr22</td>\n      <td>HAVANA</td>\n      <td>CDS</td>\n      <td>50768779</td>\n      <td>50768874</td>\n      <td>NaN</td>\n      <td>-</td>\n      <td>0</td>\n      <td>ENSG00000079974.18</td>\n      <td>ENST00000395598.7</td>\n      <td>...</td>\n      <td>9</td>\n      <td>ENSE00003666330.1</td>\n      <td>2</td>\n      <td>ENSP00000378962.3</td>\n      <td>1</td>\n      <td>HGNC:9800</td>\n      <td>basic,appris_alternative_2,CCDS</td>\n      <td>CCDS14102.1</td>\n      <td>OTTHUMG00000150156.5</td>\n      <td>OTTHUMT00000316606.1</td>\n    </tr>\n  </tbody>\n</table>\n<p>3907 rows × 24 columns</p>\n</div>"
     },
     "metadata": {},
     "execution_count": 15
    }
   ],
   "source": [
    "df"
   ]
  },
  {
   "cell_type": "code",
   "execution_count": 16,
   "metadata": {},
   "outputs": [],
   "source": [
    "sorted_df = df.sort_values(by=[\"start\", \"end\"])"
   ]
  },
  {
   "cell_type": "code",
   "execution_count": 17,
   "metadata": {},
   "outputs": [
    {
     "output_type": "execute_result",
     "data": {
      "text/plain": [
       "     seqname  source feature     start       end  score strand frame  \\\n",
       "0      chr22  HAVANA     CDS  15690078  15690709    NaN      +     0   \n",
       "1      chr22  HAVANA     CDS  15695371  15695485    NaN      +     1   \n",
       "2      chr22  HAVANA     CDS  15695645  15695818    NaN      +     0   \n",
       "3      chr22  HAVANA     CDS  15698662  15698768    NaN      +     0   \n",
       "4      chr22  HAVANA     CDS  15700078  15700215    NaN      +     1   \n",
       "...      ...     ...     ...       ...       ...    ...    ...   ...   \n",
       "3903   chr22  HAVANA     CDS  50769905  50770016    NaN      -     0   \n",
       "3902   chr22  HAVANA     CDS  50775772  50775851    NaN      -     2   \n",
       "3901   chr22  HAVANA     CDS  50776670  50776749    NaN      -     1   \n",
       "3900   chr22  HAVANA     CDS  50777952  50777981    NaN      -     1   \n",
       "3899   chr22  HAVANA     CDS  50782188  50782294    NaN      -     0   \n",
       "\n",
       "                 gene_id       transcript_id  ... exon_number  \\\n",
       "0     ENSG00000198062.15  ENST00000343518.11  ...           1   \n",
       "1     ENSG00000198062.15  ENST00000343518.11  ...           2   \n",
       "2     ENSG00000198062.15  ENST00000343518.11  ...           3   \n",
       "3     ENSG00000198062.15  ENST00000343518.11  ...           4   \n",
       "4     ENSG00000198062.15  ENST00000343518.11  ...           5   \n",
       "...                  ...                 ...  ...         ...   \n",
       "3903  ENSG00000079974.18   ENST00000395598.7  ...           6   \n",
       "3902  ENSG00000079974.18   ENST00000395598.7  ...           5   \n",
       "3901  ENSG00000079974.18   ENST00000395598.7  ...           4   \n",
       "3900  ENSG00000079974.18   ENST00000395598.7  ...           3   \n",
       "3899  ENSG00000079974.18   ENST00000395598.7  ...           2   \n",
       "\n",
       "                exon_id level         protein_id transcript_support_level  \\\n",
       "0     ENSE00001413705.2     1  ENSP00000340610.6                        5   \n",
       "1     ENSE00001746577.1     1  ENSP00000340610.6                        5   \n",
       "2     ENSE00001788239.1     1  ENSP00000340610.6                        5   \n",
       "3     ENSE00003639359.1     1  ENSP00000340610.6                        5   \n",
       "4     ENSE00003623625.1     1  ENSP00000340610.6                        5   \n",
       "...                 ...   ...                ...                      ...   \n",
       "3903  ENSE00002474834.1     2  ENSP00000378962.3                        1   \n",
       "3902  ENSE00003635536.1     2  ENSP00000378962.3                        1   \n",
       "3901  ENSE00003523827.1     2  ENSP00000378962.3                        1   \n",
       "3900  ENSE00003625751.1     2  ENSP00000378962.3                        1   \n",
       "3899  ENSE00003497028.1     2  ENSP00000378962.3                        1   \n",
       "\n",
       "        hgnc_id                                                tag  \\\n",
       "0      HGNC:133  basic,MANE_Select,appris_principal_2,exp_conf,...   \n",
       "1      HGNC:133  basic,MANE_Select,appris_principal_2,exp_conf,...   \n",
       "2      HGNC:133  basic,MANE_Select,appris_principal_2,exp_conf,...   \n",
       "3      HGNC:133  basic,MANE_Select,appris_principal_2,exp_conf,...   \n",
       "4      HGNC:133  basic,MANE_Select,appris_principal_2,exp_conf,...   \n",
       "...         ...                                                ...   \n",
       "3903  HGNC:9800                    basic,appris_alternative_2,CCDS   \n",
       "3902  HGNC:9800                    basic,appris_alternative_2,CCDS   \n",
       "3901  HGNC:9800                    basic,appris_alternative_2,CCDS   \n",
       "3900  HGNC:9800                    basic,appris_alternative_2,CCDS   \n",
       "3899  HGNC:9800                    basic,appris_alternative_2,CCDS   \n",
       "\n",
       "           ccdsid           havana_gene     havana_transcript  \n",
       "0     CCDS74808.1  OTTHUMG00000140314.6  OTTHUMT00000276918.5  \n",
       "1     CCDS74808.1  OTTHUMG00000140314.6  OTTHUMT00000276918.5  \n",
       "2     CCDS74808.1  OTTHUMG00000140314.6  OTTHUMT00000276918.5  \n",
       "3     CCDS74808.1  OTTHUMG00000140314.6  OTTHUMT00000276918.5  \n",
       "4     CCDS74808.1  OTTHUMG00000140314.6  OTTHUMT00000276918.5  \n",
       "...           ...                   ...                   ...  \n",
       "3903  CCDS14102.1  OTTHUMG00000150156.5  OTTHUMT00000316606.1  \n",
       "3902  CCDS14102.1  OTTHUMG00000150156.5  OTTHUMT00000316606.1  \n",
       "3901  CCDS14102.1  OTTHUMG00000150156.5  OTTHUMT00000316606.1  \n",
       "3900  CCDS14102.1  OTTHUMG00000150156.5  OTTHUMT00000316606.1  \n",
       "3899  CCDS14102.1  OTTHUMG00000150156.5  OTTHUMT00000316606.1  \n",
       "\n",
       "[3907 rows x 24 columns]"
      ],
      "text/html": "<div>\n<style scoped>\n    .dataframe tbody tr th:only-of-type {\n        vertical-align: middle;\n    }\n\n    .dataframe tbody tr th {\n        vertical-align: top;\n    }\n\n    .dataframe thead th {\n        text-align: right;\n    }\n</style>\n<table border=\"1\" class=\"dataframe\">\n  <thead>\n    <tr style=\"text-align: right;\">\n      <th></th>\n      <th>seqname</th>\n      <th>source</th>\n      <th>feature</th>\n      <th>start</th>\n      <th>end</th>\n      <th>score</th>\n      <th>strand</th>\n      <th>frame</th>\n      <th>gene_id</th>\n      <th>transcript_id</th>\n      <th>...</th>\n      <th>exon_number</th>\n      <th>exon_id</th>\n      <th>level</th>\n      <th>protein_id</th>\n      <th>transcript_support_level</th>\n      <th>hgnc_id</th>\n      <th>tag</th>\n      <th>ccdsid</th>\n      <th>havana_gene</th>\n      <th>havana_transcript</th>\n    </tr>\n  </thead>\n  <tbody>\n    <tr>\n      <th>0</th>\n      <td>chr22</td>\n      <td>HAVANA</td>\n      <td>CDS</td>\n      <td>15690078</td>\n      <td>15690709</td>\n      <td>NaN</td>\n      <td>+</td>\n      <td>0</td>\n      <td>ENSG00000198062.15</td>\n      <td>ENST00000343518.11</td>\n      <td>...</td>\n      <td>1</td>\n      <td>ENSE00001413705.2</td>\n      <td>1</td>\n      <td>ENSP00000340610.6</td>\n      <td>5</td>\n      <td>HGNC:133</td>\n      <td>basic,MANE_Select,appris_principal_2,exp_conf,...</td>\n      <td>CCDS74808.1</td>\n      <td>OTTHUMG00000140314.6</td>\n      <td>OTTHUMT00000276918.5</td>\n    </tr>\n    <tr>\n      <th>1</th>\n      <td>chr22</td>\n      <td>HAVANA</td>\n      <td>CDS</td>\n      <td>15695371</td>\n      <td>15695485</td>\n      <td>NaN</td>\n      <td>+</td>\n      <td>1</td>\n      <td>ENSG00000198062.15</td>\n      <td>ENST00000343518.11</td>\n      <td>...</td>\n      <td>2</td>\n      <td>ENSE00001746577.1</td>\n      <td>1</td>\n      <td>ENSP00000340610.6</td>\n      <td>5</td>\n      <td>HGNC:133</td>\n      <td>basic,MANE_Select,appris_principal_2,exp_conf,...</td>\n      <td>CCDS74808.1</td>\n      <td>OTTHUMG00000140314.6</td>\n      <td>OTTHUMT00000276918.5</td>\n    </tr>\n    <tr>\n      <th>2</th>\n      <td>chr22</td>\n      <td>HAVANA</td>\n      <td>CDS</td>\n      <td>15695645</td>\n      <td>15695818</td>\n      <td>NaN</td>\n      <td>+</td>\n      <td>0</td>\n      <td>ENSG00000198062.15</td>\n      <td>ENST00000343518.11</td>\n      <td>...</td>\n      <td>3</td>\n      <td>ENSE00001788239.1</td>\n      <td>1</td>\n      <td>ENSP00000340610.6</td>\n      <td>5</td>\n      <td>HGNC:133</td>\n      <td>basic,MANE_Select,appris_principal_2,exp_conf,...</td>\n      <td>CCDS74808.1</td>\n      <td>OTTHUMG00000140314.6</td>\n      <td>OTTHUMT00000276918.5</td>\n    </tr>\n    <tr>\n      <th>3</th>\n      <td>chr22</td>\n      <td>HAVANA</td>\n      <td>CDS</td>\n      <td>15698662</td>\n      <td>15698768</td>\n      <td>NaN</td>\n      <td>+</td>\n      <td>0</td>\n      <td>ENSG00000198062.15</td>\n      <td>ENST00000343518.11</td>\n      <td>...</td>\n      <td>4</td>\n      <td>ENSE00003639359.1</td>\n      <td>1</td>\n      <td>ENSP00000340610.6</td>\n      <td>5</td>\n      <td>HGNC:133</td>\n      <td>basic,MANE_Select,appris_principal_2,exp_conf,...</td>\n      <td>CCDS74808.1</td>\n      <td>OTTHUMG00000140314.6</td>\n      <td>OTTHUMT00000276918.5</td>\n    </tr>\n    <tr>\n      <th>4</th>\n      <td>chr22</td>\n      <td>HAVANA</td>\n      <td>CDS</td>\n      <td>15700078</td>\n      <td>15700215</td>\n      <td>NaN</td>\n      <td>+</td>\n      <td>1</td>\n      <td>ENSG00000198062.15</td>\n      <td>ENST00000343518.11</td>\n      <td>...</td>\n      <td>5</td>\n      <td>ENSE00003623625.1</td>\n      <td>1</td>\n      <td>ENSP00000340610.6</td>\n      <td>5</td>\n      <td>HGNC:133</td>\n      <td>basic,MANE_Select,appris_principal_2,exp_conf,...</td>\n      <td>CCDS74808.1</td>\n      <td>OTTHUMG00000140314.6</td>\n      <td>OTTHUMT00000276918.5</td>\n    </tr>\n    <tr>\n      <th>...</th>\n      <td>...</td>\n      <td>...</td>\n      <td>...</td>\n      <td>...</td>\n      <td>...</td>\n      <td>...</td>\n      <td>...</td>\n      <td>...</td>\n      <td>...</td>\n      <td>...</td>\n      <td>...</td>\n      <td>...</td>\n      <td>...</td>\n      <td>...</td>\n      <td>...</td>\n      <td>...</td>\n      <td>...</td>\n      <td>...</td>\n      <td>...</td>\n      <td>...</td>\n      <td>...</td>\n    </tr>\n    <tr>\n      <th>3903</th>\n      <td>chr22</td>\n      <td>HAVANA</td>\n      <td>CDS</td>\n      <td>50769905</td>\n      <td>50770016</td>\n      <td>NaN</td>\n      <td>-</td>\n      <td>0</td>\n      <td>ENSG00000079974.18</td>\n      <td>ENST00000395598.7</td>\n      <td>...</td>\n      <td>6</td>\n      <td>ENSE00002474834.1</td>\n      <td>2</td>\n      <td>ENSP00000378962.3</td>\n      <td>1</td>\n      <td>HGNC:9800</td>\n      <td>basic,appris_alternative_2,CCDS</td>\n      <td>CCDS14102.1</td>\n      <td>OTTHUMG00000150156.5</td>\n      <td>OTTHUMT00000316606.1</td>\n    </tr>\n    <tr>\n      <th>3902</th>\n      <td>chr22</td>\n      <td>HAVANA</td>\n      <td>CDS</td>\n      <td>50775772</td>\n      <td>50775851</td>\n      <td>NaN</td>\n      <td>-</td>\n      <td>2</td>\n      <td>ENSG00000079974.18</td>\n      <td>ENST00000395598.7</td>\n      <td>...</td>\n      <td>5</td>\n      <td>ENSE00003635536.1</td>\n      <td>2</td>\n      <td>ENSP00000378962.3</td>\n      <td>1</td>\n      <td>HGNC:9800</td>\n      <td>basic,appris_alternative_2,CCDS</td>\n      <td>CCDS14102.1</td>\n      <td>OTTHUMG00000150156.5</td>\n      <td>OTTHUMT00000316606.1</td>\n    </tr>\n    <tr>\n      <th>3901</th>\n      <td>chr22</td>\n      <td>HAVANA</td>\n      <td>CDS</td>\n      <td>50776670</td>\n      <td>50776749</td>\n      <td>NaN</td>\n      <td>-</td>\n      <td>1</td>\n      <td>ENSG00000079974.18</td>\n      <td>ENST00000395598.7</td>\n      <td>...</td>\n      <td>4</td>\n      <td>ENSE00003523827.1</td>\n      <td>2</td>\n      <td>ENSP00000378962.3</td>\n      <td>1</td>\n      <td>HGNC:9800</td>\n      <td>basic,appris_alternative_2,CCDS</td>\n      <td>CCDS14102.1</td>\n      <td>OTTHUMG00000150156.5</td>\n      <td>OTTHUMT00000316606.1</td>\n    </tr>\n    <tr>\n      <th>3900</th>\n      <td>chr22</td>\n      <td>HAVANA</td>\n      <td>CDS</td>\n      <td>50777952</td>\n      <td>50777981</td>\n      <td>NaN</td>\n      <td>-</td>\n      <td>1</td>\n      <td>ENSG00000079974.18</td>\n      <td>ENST00000395598.7</td>\n      <td>...</td>\n      <td>3</td>\n      <td>ENSE00003625751.1</td>\n      <td>2</td>\n      <td>ENSP00000378962.3</td>\n      <td>1</td>\n      <td>HGNC:9800</td>\n      <td>basic,appris_alternative_2,CCDS</td>\n      <td>CCDS14102.1</td>\n      <td>OTTHUMG00000150156.5</td>\n      <td>OTTHUMT00000316606.1</td>\n    </tr>\n    <tr>\n      <th>3899</th>\n      <td>chr22</td>\n      <td>HAVANA</td>\n      <td>CDS</td>\n      <td>50782188</td>\n      <td>50782294</td>\n      <td>NaN</td>\n      <td>-</td>\n      <td>0</td>\n      <td>ENSG00000079974.18</td>\n      <td>ENST00000395598.7</td>\n      <td>...</td>\n      <td>2</td>\n      <td>ENSE00003497028.1</td>\n      <td>2</td>\n      <td>ENSP00000378962.3</td>\n      <td>1</td>\n      <td>HGNC:9800</td>\n      <td>basic,appris_alternative_2,CCDS</td>\n      <td>CCDS14102.1</td>\n      <td>OTTHUMG00000150156.5</td>\n      <td>OTTHUMT00000316606.1</td>\n    </tr>\n  </tbody>\n</table>\n<p>3907 rows × 24 columns</p>\n</div>"
     },
     "metadata": {},
     "execution_count": 17
    }
   ],
   "source": [
    "sorted_df"
   ]
  },
  {
   "cell_type": "code",
   "execution_count": 37,
   "metadata": {},
   "outputs": [
    {
     "output_type": "stream",
     "name": "stdout",
     "text": [
      "Count of unique value sin each column :\nseqname                        1\nsource                         1\nfeature                        1\nstart                       3884\nend                         3883\nscore                          0\nstrand                         2\nframe                          3\ngene_id                      408\ntranscript_id                408\ngene_type                      1\ngene_name                    408\ntranscript_type                1\ntranscript_name              408\nexon_number                   55\nexon_id                     3907\nlevel                          2\nprotein_id                   408\ntranscript_support_level       7\nhgnc_id                      408\ntag                           54\nccdsid                       405\nhavana_gene                  408\nhavana_transcript            404\ndtype: int64\n"
     ]
    }
   ],
   "source": [
    "uniqueValues = sorted_df.nunique()\n",
    "print('Count of unique value sin each column :')\n",
    "print(uniqueValues)"
   ]
  },
  {
   "cell_type": "code",
   "execution_count": 18,
   "metadata": {},
   "outputs": [],
   "source": [
    "start_end_strand=sorted_df[[\"start\",\"end\",\"strand\",\"gene_name\",\"transcript_name\"]]"
   ]
  },
  {
   "cell_type": "code",
   "execution_count": 19,
   "metadata": {},
   "outputs": [
    {
     "output_type": "stream",
     "name": "stdout",
     "text": [
      "         start       end strand gene_name transcript_name\n0     15690078  15690709      +     POTEH       POTEH-201\n1     15695371  15695485      +     POTEH       POTEH-201\n2     15695645  15695818      +     POTEH       POTEH-201\n3     15698662  15698768      +     POTEH       POTEH-201\n4     15700078  15700215      +     POTEH       POTEH-201\n...        ...       ...    ...       ...             ...\n3903  50769905  50770016      -    RABL2B      RABL2B-206\n3902  50775772  50775851      -    RABL2B      RABL2B-206\n3901  50776670  50776749      -    RABL2B      RABL2B-206\n3900  50777952  50777981      -    RABL2B      RABL2B-206\n3899  50782188  50782294      -    RABL2B      RABL2B-206\n\n[3907 rows x 5 columns]\n"
     ]
    }
   ],
   "source": [
    "print(start_end_strand)"
   ]
  },
  {
   "cell_type": "code",
   "execution_count": 49,
   "metadata": {},
   "outputs": [],
   "source": [
    "Dictionary = { \"Protein Name\": [], \"Protein Seq\" :[] }\n",
    "# , \"Mass\":[]}\n"
   ]
  },
  {
   "cell_type": "code",
   "execution_count": 50,
   "metadata": {},
   "outputs": [
    {
     "output_type": "stream",
     "name": "stdout",
     "text": [
      "15690077\n15690708\n"
     ]
    }
   ],
   "source": [
    "print(start_end_strand['start'].iloc[0])\n",
    "print(start_end_strand['end'].iloc[0])"
   ]
  },
  {
   "cell_type": "code",
   "execution_count": 23,
   "metadata": {},
   "outputs": [
    {
     "output_type": "stream",
     "name": "stderr",
     "text": [
      "INFO:numexpr.utils:Note: NumExpr detected 12 cores but \"NUMEXPR_MAX_THREADS\" not set, so enforcing safe limit of 8.\n",
      "INFO:numexpr.utils:NumExpr defaulting to 8 threads.\n",
      "15690077\n",
      "15690708\n",
      "C:\\Users\\omars\\anaconda3\\lib\\site-packages\\pandas\\core\\indexing.py:1676: SettingWithCopyWarning: \n",
      "A value is trying to be set on a copy of a slice from a DataFrame.\n",
      "Try using .loc[row_indexer,col_indexer] = value instead\n",
      "\n",
      "See the caveats in the documentation: https://pandas.pydata.org/pandas-docs/stable/user_guide/indexing.html#returning-a-view-versus-a-copy\n",
      "  self._setitem_single_column(ilocs[0], value, pi)\n"
     ]
    }
   ],
   "source": [
    "start_end_strand.loc[:, \"start\"] -= 1\n",
    "start_end_strand.loc[:, \"end\"] -= 1\n",
    "print(start_end_strand['start'].iloc[0])\n",
    "print(start_end_strand['end'].iloc[0])"
   ]
  },
  {
   "cell_type": "code",
   "execution_count": 51,
   "metadata": {
    "tags": []
   },
   "outputs": [
    {
     "output_type": "error",
     "ename": "KeyError",
     "evalue": "'Gene Name'",
     "traceback": [
      "\u001b[1;31m---------------------------------------------------------------------------\u001b[0m",
      "\u001b[1;31mKeyError\u001b[0m                                  Traceback (most recent call last)",
      "\u001b[1;32m<ipython-input-51-b1b0f716a525>\u001b[0m in \u001b[0;36m<module>\u001b[1;34m\u001b[0m\n\u001b[0;32m     25\u001b[0m         \u001b[0mMerged_Gene_Region\u001b[0m \u001b[1;33m=\u001b[0m \u001b[1;33m[\u001b[0m \u001b[1;33m]\u001b[0m\u001b[1;33m\u001b[0m\u001b[1;33m\u001b[0m\u001b[0m\n\u001b[0;32m     26\u001b[0m \u001b[1;33m\u001b[0m\u001b[0m\n\u001b[1;32m---> 27\u001b[1;33m         \u001b[0mDictionary\u001b[0m\u001b[1;33m[\u001b[0m\u001b[1;34m\"Gene Name\"\u001b[0m\u001b[1;33m]\u001b[0m\u001b[1;33m.\u001b[0m\u001b[0mappend\u001b[0m\u001b[1;33m(\u001b[0m\u001b[0mstart_end_strand\u001b[0m\u001b[1;33m[\u001b[0m\u001b[1;34m'gene_name'\u001b[0m\u001b[1;33m]\u001b[0m\u001b[1;33m.\u001b[0m\u001b[0miloc\u001b[0m\u001b[1;33m[\u001b[0m\u001b[0mi\u001b[0m\u001b[1;33m]\u001b[0m\u001b[1;33m)\u001b[0m\u001b[1;33m\u001b[0m\u001b[1;33m\u001b[0m\u001b[0m\n\u001b[0m\u001b[0;32m     28\u001b[0m         \u001b[0mDictionary\u001b[0m\u001b[1;33m[\u001b[0m\u001b[1;34m\"Protein Name\"\u001b[0m\u001b[1;33m]\u001b[0m\u001b[1;33m.\u001b[0m\u001b[0mappend\u001b[0m\u001b[1;33m(\u001b[0m\u001b[0mstart_end_strand\u001b[0m\u001b[1;33m[\u001b[0m\u001b[1;34m'transcript_name'\u001b[0m\u001b[1;33m]\u001b[0m\u001b[1;33m.\u001b[0m\u001b[0miloc\u001b[0m\u001b[1;33m[\u001b[0m\u001b[0mi\u001b[0m\u001b[1;33m]\u001b[0m\u001b[1;33m)\u001b[0m\u001b[1;33m\u001b[0m\u001b[1;33m\u001b[0m\u001b[0m\n\u001b[0;32m     29\u001b[0m         \u001b[1;32mbreak\u001b[0m\u001b[1;33m\u001b[0m\u001b[1;33m\u001b[0m\u001b[0m\n",
      "\u001b[1;31mKeyError\u001b[0m: 'Gene Name'"
     ]
    }
   ],
   "source": [
    "Protein=[]\n",
    "Gene_Region=[]\n",
    "for i in range (len(start_end_strand)):\n",
    "\n",
    "    if start_end_strand['strand'].iloc[i]==\"+\":\n",
    "        Gene_Region.append( str(seq[start_end_strand['start'].iloc[i]:start_end_strand['end'].iloc[i]]) )\n",
    "\n",
    "    elif start_end_strand['strand'].iloc[i]==\"-\":\n",
    "        Gene_Region.append( str( seq[start_end_strand['start'].iloc[i]:start_end_strand['end'].iloc[i]].reverse_complement() ) )\n",
    "\n",
    "    # Break condition\n",
    "    if i == len(start_end_strand)-1:\n",
    "        Merged_Gene_Region = ''.join(Gene_Region)  # Append all sequences of coding into 1 sequence\n",
    "\n",
    "        # Check for adding trailing N-sequence to make translation correct\n",
    "        #--------------------------------\n",
    "        remainder = len(Merged_Gene_Region) % 3\n",
    "        if remainder != 0:\n",
    "            Merged_Gene_Region = Merged_Gene_Region + 'N' * (3 - remainder)\n",
    "        #------------------------------------------------------------\n",
    "        Merged_Gene_Region = Seq(Merged_Gene_Region)\n",
    "        Protein=Merged_Gene_Region.translate()\n",
    "\n",
    "        Gene_Region = [ ] # Reset Gene_Region for new protein\n",
    "        Merged_Gene_Region = [ ]\n",
    "\n",
    "        Dictionary[\"Gene Name\"].append(start_end_strand['gene_name'].iloc[i])\n",
    "        Dictionary[\"Protein Name\"].append(start_end_strand['transcript_name'].iloc[i])\n",
    "        break\n",
    "\n",
    "    # Translating Entire Gene Condition\n",
    "    if start_end_strand['gene_name'].iloc[i] != start_end_strand['gene_name'].iloc[i+1]:\n",
    "        Merged_Gene_Region = ''.join(Gene_Region)  # Append all sequences of coding into 1 sequence\n",
    "\n",
    "        # Check for adding trailing N-sequence to make translation correct\n",
    "        #--------------------------------\n",
    "        remainder = len(Merged_Gene_Region) % 3\n",
    "        if remainder != 0:\n",
    "            Merged_Gene_Region = Merged_Gene_Region + 'N' * (3 - remainder)\n",
    "        #------------------------------------------------------------\n",
    "        Merged_Gene_Region = Seq(Merged_Gene_Region)\n",
    "        Protein=Merged_Gene_Region.translate()\n",
    "\n",
    "        Gene_Region = [ ] # Reset Gene_Region for new protein\n",
    "        Merged_Gene_Region = [ ]\n",
    "\n",
    "        Dictionary[\"Protein Name\"].append(start_end_strand['gene_name'].iloc[i])\n",
    "        Dictionary[\"Protein Seq\"].append(Protein)\n",
    "        \n",
    "\n",
    "#     print(\"%0.2f\" % molecular_weight(Gene_Region,\"DNA\"))\n",
    "#     Dictionary[\"Mass\"].append(\"%0.2f\" % molecular_weight(Gene_Region,\"DNA\")) #sha8ala bs el size bydrb\n",
    "\n",
    "\n",
    "       "
   ]
  },
  {
   "cell_type": "code",
   "execution_count": 52,
   "metadata": {},
   "outputs": [
    {
     "output_type": "stream",
     "name": "stdout",
     "text": [
      "460\n"
     ]
    }
   ],
   "source": [
    "print(len(Dictionary[\"Protein Seq\"]))"
   ]
  },
  {
   "cell_type": "code",
   "execution_count": 33,
   "metadata": {},
   "outputs": [],
   "source": [
    "Data=pd.DataFrame.from_dict(Dictionary)\n"
   ]
  },
  {
   "cell_type": "code",
   "execution_count": 34,
   "metadata": {},
   "outputs": [],
   "source": [
    "header = Dictionary.keys()\n",
    "no_rows = len(Dictionary[list(header)[0]])\n",
    "\n",
    "with open('Output.csv', 'w', newline='') as csvfile:\n",
    "    csvwriter = csv.writer(csvfile, delimiter=',')\n",
    "    csvwriter.writerow(header)\n",
    "    for row in range(no_rows):\n",
    "        csvwriter.writerow([Dictionary[key][row] for key in header])"
   ]
  },
  {
   "cell_type": "code",
   "execution_count": 111,
   "metadata": {},
   "outputs": [
    {
     "ename": "ValueError",
     "evalue": "'*' is not a valid unambiguous letter for protein",
     "output_type": "error",
     "traceback": [
      "\u001b[1;31m---------------------------------------------------------------------------\u001b[0m",
      "\u001b[1;31mValueError\u001b[0m                                Traceback (most recent call last)",
      "\u001b[1;32m<ipython-input-111-2665e85a0fb3>\u001b[0m in \u001b[0;36m<module>\u001b[1;34m\u001b[0m\n\u001b[0;32m      1\u001b[0m \u001b[0mmy_seq\u001b[0m\u001b[1;33m=\u001b[0m\u001b[0mDictionary\u001b[0m\u001b[1;33m[\u001b[0m\u001b[1;34m'Protein Seq'\u001b[0m\u001b[1;33m]\u001b[0m\u001b[1;33m[\u001b[0m\u001b[1;36m0\u001b[0m\u001b[1;33m]\u001b[0m\u001b[1;33m\u001b[0m\u001b[1;33m\u001b[0m\u001b[0m\n\u001b[1;32m----> 2\u001b[1;33m \u001b[0mprint\u001b[0m\u001b[1;33m(\u001b[0m\u001b[1;34m\"%0.2f\"\u001b[0m \u001b[1;33m%\u001b[0m \u001b[0mmolecular_weight\u001b[0m\u001b[1;33m(\u001b[0m\u001b[0mmy_seq\u001b[0m\u001b[1;33m,\u001b[0m\u001b[1;34m\"protein\"\u001b[0m\u001b[1;33m)\u001b[0m\u001b[1;33m)\u001b[0m\u001b[1;33m\u001b[0m\u001b[1;33m\u001b[0m\u001b[0m\n\u001b[0m\u001b[0;32m      3\u001b[0m \u001b[1;31m# print(type(my_seq))\u001b[0m\u001b[1;33m\u001b[0m\u001b[1;33m\u001b[0m\u001b[1;33m\u001b[0m\u001b[0m\n\u001b[0;32m      4\u001b[0m \u001b[1;31m# analysed_seq = ProteinAnalysis(my_seq)\u001b[0m\u001b[1;33m\u001b[0m\u001b[1;33m\u001b[0m\u001b[1;33m\u001b[0m\u001b[0m\n\u001b[0;32m      5\u001b[0m \u001b[1;31m# print(analysed_seq.molecular_weight())\u001b[0m\u001b[1;33m\u001b[0m\u001b[1;33m\u001b[0m\u001b[1;33m\u001b[0m\u001b[0m\n",
      "\u001b[1;32m~\\anaconda3\\lib\\site-packages\\Bio\\SeqUtils\\__init__.py\u001b[0m in \u001b[0;36mmolecular_weight\u001b[1;34m(seq, seq_type, double_stranded, circular, monoisotopic)\u001b[0m\n\u001b[0;32m    377\u001b[0m             \u001b[0mweight\u001b[0m \u001b[1;33m-=\u001b[0m \u001b[0mwater\u001b[0m\u001b[1;33m\u001b[0m\u001b[1;33m\u001b[0m\u001b[0m\n\u001b[0;32m    378\u001b[0m     \u001b[1;32mexcept\u001b[0m \u001b[0mKeyError\u001b[0m \u001b[1;32mas\u001b[0m \u001b[0me\u001b[0m\u001b[1;33m:\u001b[0m\u001b[1;33m\u001b[0m\u001b[1;33m\u001b[0m\u001b[0m\n\u001b[1;32m--> 379\u001b[1;33m         raise ValueError(\n\u001b[0m\u001b[0;32m    380\u001b[0m             \u001b[1;34m\"%s is not a valid unambiguous letter for %s\"\u001b[0m \u001b[1;33m%\u001b[0m \u001b[1;33m(\u001b[0m\u001b[0me\u001b[0m\u001b[1;33m,\u001b[0m \u001b[0mseq_type\u001b[0m\u001b[1;33m)\u001b[0m\u001b[1;33m\u001b[0m\u001b[1;33m\u001b[0m\u001b[0m\n\u001b[0;32m    381\u001b[0m         ) from None\n",
      "\u001b[1;31mValueError\u001b[0m: '*' is not a valid unambiguous letter for protein"
     ]
    }
   ],
   "source": [
    "my_seq=Dictionary['Protein Seq'][0]\n",
    "# print(type(my_seq))\n",
    "# analysed_seq = ProteinAnalysis(my_seq)\n",
    "# print(analysed_seq.molecular_weight())"
   ]
  }
 ],
 "metadata": {
  "kernelspec": {
   "name": "python3",
   "display_name": "Python 3.8.5 64-bit ('base': conda)"
  },
  "language_info": {
   "codemirror_mode": {
    "name": "ipython",
    "version": 3
   },
   "file_extension": ".py",
   "mimetype": "text/x-python",
   "name": "python",
   "nbconvert_exporter": "python",
   "pygments_lexer": "ipython3",
   "version": "3.8.5"
  },
  "interpreter": {
   "hash": "5a862fa755b339cb269ec5ceb6e73837f63b6953002ae94843c7ff6941dd7636"
  }
 },
 "nbformat": 4,
 "nbformat_minor": 4
}