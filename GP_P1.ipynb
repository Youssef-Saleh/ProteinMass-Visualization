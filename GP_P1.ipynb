{
 "cells": [
  {
   "cell_type": "code",
   "execution_count": 3,
   "metadata": {},
   "outputs": [],
   "source": [
    "import pandas as pd\n",
    "import numpy as np\n",
    "from Bio import SeqIO\n",
    "from Bio.Seq import Seq\n",
    "# from BCBio import GFF\n",
    "from gtfparse import read_gtf\n",
    "import pprint\n",
    "import csv\n",
    "import Bio.SeqUtils\n",
    "from Bio.SeqUtils.ProtParam import ProteinAnalysis\n",
    "from Bio.SeqUtils.ProtParam import molecular_weight\n",
    "\n",
    "# from BCBio.GFF import GFFExaminer"
   ]
  },
  {
   "source": [
    "import pandas as pd\n",
    "import numpy as np\n",
    "from Bio import SeqIO\n",
    "from Bio.Seq import Seq\n",
    "# from BCBio import GFF\n",
    "from gtfparse import read_gtf\n",
    "import pprint\n",
    "import csv\n",
    "import Bio.SeqUtils\n",
    "from Bio.SeqUtils.ProtParam import ProteinAnalysis\n",
    "from Bio.SeqUtils.ProtParam import molecular_weight\n",
    "\n",
    "# from BCBio.GFF import GFFExaminer"
   ],
   "cell_type": "code",
   "metadata": {},
   "execution_count": 2,
   "outputs": []
  },
  {
   "cell_type": "code",
   "execution_count": 3,
   "metadata": {},
   "outputs": [],
   "source": [
    "Dictionary = { \"genes\":[] ,\"proteins\":[], }\n"
   ]
  },
  {
   "cell_type": "code",
   "execution_count": 5,
   "metadata": {},
   "outputs": [
    {
     "output_type": "stream",
     "name": "stdout",
     "text": [
      "ID: chr22\nName: chr22\nDescription: chr22\nNumber of features: 0\nSeq('NNNNNNNNNNNNNNNNNNNNNNNNNNNNNNNNNNNNNNNNNNNNNNNNNNNNNN...NNN')\n"
     ]
    }
   ],
   "source": [
    "# reading the fasta file (one record)\n",
    "seq=[]\n",
    "seq_file = SeqIO.read(\"data/chr22.fa\", \"fasta\")\n",
    "print(seq_file)\n",
    "seq=seq_file.seq\n",
    "\n",
    "seq_length=len(seq)\n",
    "\n",
    "    "
   ]
  },
  {
   "cell_type": "code",
   "execution_count": 6,
   "metadata": {},
   "outputs": [
    {
     "output_type": "stream",
     "name": "stdout",
     "text": [
      "TGGTGGCTGAGGCTGGTTCAATGCCGGCTGCCTCCTCTGTGAAGAAGCCATTTGGTCTCAGAAGCAAGATGGGCAAGTGGTGCCGCCACTGCTTCGCCTGGTGCAGGGGGAGCGGCAAGAGCAACGTGGGCACTTCTGGAGACCACGACGATTCTGCTATGAAGACACTCAGGAGCAAGATGGGCAAGTGGTGCTGCCACTGCTTCCCCTGGTGCAGGGGGAGCGGCAAGAGCAACGTGGGCACTTCTGGAGACCACGACGATTCTGCTATGAAGACACTCAGGAGCAAGATGGGCAAGTGGTGCTGCCACTGCTTCCCCTGCTGCAGGGGGAGCGGCAAGAGCAACGTGGGCACTTCTGGAGACCACGACGACTCTGCTATGAAGACACTCAGGAGCAAGATGGGCAAGTGGTGCTGCCACTGCTTCCCCTGCTGCAGGGGGAGCGGCAAGAACAAAGTGGGCCCTTGGGGAGACTACGACGACAGCGCTTTCATGGAGCCGAGGTACCACGTCCGTCGAGAAGATCTGGACAAGCTCCACAGAGCTGCCTGGTGGGGTAAAGTCCCCAGAAAGGATCTCATCGTCATGCTCAAGGACACTGACATGAACAAGAAGGACAAGCAAAAGAG\n50818468\n"
     ]
    }
   ],
   "source": [
    "print(seq[15690078:15690709])\n",
    "print(seq_length)\n"
   ]
  },
  {
   "cell_type": "code",
   "execution_count": 7,
   "metadata": {},
   "outputs": [],
   "source": [
    "# #using sequence dictionary\n",
    "\n",
    "# in_seq_file = \"chr22.fa\"\n",
    "# in_seq_handle = open(in_seq_file)\n",
    "# seq_dict = SeqIO.to_dict(SeqIO.parse(in_seq_handle, \"fasta\"))\n",
    "# in_seq_handle.close()\n",
    "\n",
    "# print(seq_dict)\n"
   ]
  },
  {
   "cell_type": "code",
   "execution_count": 8,
   "metadata": {},
   "outputs": [],
   "source": [
    "# print(seq_dict[\"chr22\"].seq)"
   ]
  },
  {
   "cell_type": "code",
   "execution_count": 12,
   "metadata": {},
   "outputs": [],
   "source": [
    "\n",
    "# in_file = \"newgeneannotations.gtf\"\n",
    "\n",
    "# in_handle = open(in_file)\n",
    "# for rec in GFF.parse(in_handle):\n",
    "#     print(rec)\n",
    "        \n",
    "# in_handle.close()"
   ]
  },
  {
   "cell_type": "code",
   "execution_count": 9,
   "metadata": {},
   "outputs": [
    {
     "output_type": "stream",
     "name": "stderr",
     "text": [
      "INFO:root:Extracted GTF attributes: ['gene_id', 'transcript_id', 'gene_type', 'gene_name', 'transcript_type', 'transcript_name', 'exon_number', 'exon_id', 'level', 'protein_id', 'transcript_support_level', 'hgnc_id', 'tag', 'ccdsid', 'havana_gene', 'havana_transcript']\n"
     ]
    }
   ],
   "source": [
    "\n",
    "\n",
    "df = read_gtf(\"data/newgeneannotations.gtf\")\n"
   ]
  },
  {
   "cell_type": "code",
   "execution_count": 14,
   "metadata": {},
   "outputs": [
    {
     "output_type": "execute_result",
     "data": {
      "text/plain": [
       "     seqname  source feature     start       end  score strand frame  \\\n",
       "0      chr22  HAVANA     CDS  15690078  15690709    NaN      +     0   \n",
       "1      chr22  HAVANA     CDS  15695371  15695485    NaN      +     1   \n",
       "2      chr22  HAVANA     CDS  15695645  15695818    NaN      +     0   \n",
       "3      chr22  HAVANA     CDS  15698662  15698768    NaN      +     0   \n",
       "4      chr22  HAVANA     CDS  15700078  15700215    NaN      +     1   \n",
       "...      ...     ...     ...       ...       ...    ...    ...   ...   \n",
       "3902   chr22  HAVANA     CDS  50775772  50775851    NaN      -     2   \n",
       "3903   chr22  HAVANA     CDS  50769905  50770016    NaN      -     0   \n",
       "3904   chr22  HAVANA     CDS  50769455  50769549    NaN      -     2   \n",
       "3905   chr22  HAVANA     CDS  50769041  50769124    NaN      -     0   \n",
       "3906   chr22  HAVANA     CDS  50768779  50768874    NaN      -     0   \n",
       "\n",
       "                 gene_id       transcript_id  ... exon_number  \\\n",
       "0     ENSG00000198062.15  ENST00000343518.11  ...           1   \n",
       "1     ENSG00000198062.15  ENST00000343518.11  ...           2   \n",
       "2     ENSG00000198062.15  ENST00000343518.11  ...           3   \n",
       "3     ENSG00000198062.15  ENST00000343518.11  ...           4   \n",
       "4     ENSG00000198062.15  ENST00000343518.11  ...           5   \n",
       "...                  ...                 ...  ...         ...   \n",
       "3902  ENSG00000079974.18   ENST00000395598.7  ...           5   \n",
       "3903  ENSG00000079974.18   ENST00000395598.7  ...           6   \n",
       "3904  ENSG00000079974.18   ENST00000395598.7  ...           7   \n",
       "3905  ENSG00000079974.18   ENST00000395598.7  ...           8   \n",
       "3906  ENSG00000079974.18   ENST00000395598.7  ...           9   \n",
       "\n",
       "                exon_id level         protein_id transcript_support_level  \\\n",
       "0     ENSE00001413705.2     1  ENSP00000340610.6                        5   \n",
       "1     ENSE00001746577.1     1  ENSP00000340610.6                        5   \n",
       "2     ENSE00001788239.1     1  ENSP00000340610.6                        5   \n",
       "3     ENSE00003639359.1     1  ENSP00000340610.6                        5   \n",
       "4     ENSE00003623625.1     1  ENSP00000340610.6                        5   \n",
       "...                 ...   ...                ...                      ...   \n",
       "3902  ENSE00003635536.1     2  ENSP00000378962.3                        1   \n",
       "3903  ENSE00002474834.1     2  ENSP00000378962.3                        1   \n",
       "3904  ENSE00002489129.1     2  ENSP00000378962.3                        1   \n",
       "3905  ENSE00003570915.1     2  ENSP00000378962.3                        1   \n",
       "3906  ENSE00003666330.1     2  ENSP00000378962.3                        1   \n",
       "\n",
       "        hgnc_id                                                tag  \\\n",
       "0      HGNC:133  basic,MANE_Select,appris_principal_2,exp_conf,...   \n",
       "1      HGNC:133  basic,MANE_Select,appris_principal_2,exp_conf,...   \n",
       "2      HGNC:133  basic,MANE_Select,appris_principal_2,exp_conf,...   \n",
       "3      HGNC:133  basic,MANE_Select,appris_principal_2,exp_conf,...   \n",
       "4      HGNC:133  basic,MANE_Select,appris_principal_2,exp_conf,...   \n",
       "...         ...                                                ...   \n",
       "3902  HGNC:9800                    basic,appris_alternative_2,CCDS   \n",
       "3903  HGNC:9800                    basic,appris_alternative_2,CCDS   \n",
       "3904  HGNC:9800                    basic,appris_alternative_2,CCDS   \n",
       "3905  HGNC:9800                    basic,appris_alternative_2,CCDS   \n",
       "3906  HGNC:9800                    basic,appris_alternative_2,CCDS   \n",
       "\n",
       "           ccdsid           havana_gene     havana_transcript  \n",
       "0     CCDS74808.1  OTTHUMG00000140314.6  OTTHUMT00000276918.5  \n",
       "1     CCDS74808.1  OTTHUMG00000140314.6  OTTHUMT00000276918.5  \n",
       "2     CCDS74808.1  OTTHUMG00000140314.6  OTTHUMT00000276918.5  \n",
       "3     CCDS74808.1  OTTHUMG00000140314.6  OTTHUMT00000276918.5  \n",
       "4     CCDS74808.1  OTTHUMG00000140314.6  OTTHUMT00000276918.5  \n",
       "...           ...                   ...                   ...  \n",
       "3902  CCDS14102.1  OTTHUMG00000150156.5  OTTHUMT00000316606.1  \n",
       "3903  CCDS14102.1  OTTHUMG00000150156.5  OTTHUMT00000316606.1  \n",
       "3904  CCDS14102.1  OTTHUMG00000150156.5  OTTHUMT00000316606.1  \n",
       "3905  CCDS14102.1  OTTHUMG00000150156.5  OTTHUMT00000316606.1  \n",
       "3906  CCDS14102.1  OTTHUMG00000150156.5  OTTHUMT00000316606.1  \n",
       "\n",
       "[3907 rows x 24 columns]"
      ],
      "text/html": "<div>\n<style scoped>\n    .dataframe tbody tr th:only-of-type {\n        vertical-align: middle;\n    }\n\n    .dataframe tbody tr th {\n        vertical-align: top;\n    }\n\n    .dataframe thead th {\n        text-align: right;\n    }\n</style>\n<table border=\"1\" class=\"dataframe\">\n  <thead>\n    <tr style=\"text-align: right;\">\n      <th></th>\n      <th>seqname</th>\n      <th>source</th>\n      <th>feature</th>\n      <th>start</th>\n      <th>end</th>\n      <th>score</th>\n      <th>strand</th>\n      <th>frame</th>\n      <th>gene_id</th>\n      <th>transcript_id</th>\n      <th>...</th>\n      <th>exon_number</th>\n      <th>exon_id</th>\n      <th>level</th>\n      <th>protein_id</th>\n      <th>transcript_support_level</th>\n      <th>hgnc_id</th>\n      <th>tag</th>\n      <th>ccdsid</th>\n      <th>havana_gene</th>\n      <th>havana_transcript</th>\n    </tr>\n  </thead>\n  <tbody>\n    <tr>\n      <th>0</th>\n      <td>chr22</td>\n      <td>HAVANA</td>\n      <td>CDS</td>\n      <td>15690078</td>\n      <td>15690709</td>\n      <td>NaN</td>\n      <td>+</td>\n      <td>0</td>\n      <td>ENSG00000198062.15</td>\n      <td>ENST00000343518.11</td>\n      <td>...</td>\n      <td>1</td>\n      <td>ENSE00001413705.2</td>\n      <td>1</td>\n      <td>ENSP00000340610.6</td>\n      <td>5</td>\n      <td>HGNC:133</td>\n      <td>basic,MANE_Select,appris_principal_2,exp_conf,...</td>\n      <td>CCDS74808.1</td>\n      <td>OTTHUMG00000140314.6</td>\n      <td>OTTHUMT00000276918.5</td>\n    </tr>\n    <tr>\n      <th>1</th>\n      <td>chr22</td>\n      <td>HAVANA</td>\n      <td>CDS</td>\n      <td>15695371</td>\n      <td>15695485</td>\n      <td>NaN</td>\n      <td>+</td>\n      <td>1</td>\n      <td>ENSG00000198062.15</td>\n      <td>ENST00000343518.11</td>\n      <td>...</td>\n      <td>2</td>\n      <td>ENSE00001746577.1</td>\n      <td>1</td>\n      <td>ENSP00000340610.6</td>\n      <td>5</td>\n      <td>HGNC:133</td>\n      <td>basic,MANE_Select,appris_principal_2,exp_conf,...</td>\n      <td>CCDS74808.1</td>\n      <td>OTTHUMG00000140314.6</td>\n      <td>OTTHUMT00000276918.5</td>\n    </tr>\n    <tr>\n      <th>2</th>\n      <td>chr22</td>\n      <td>HAVANA</td>\n      <td>CDS</td>\n      <td>15695645</td>\n      <td>15695818</td>\n      <td>NaN</td>\n      <td>+</td>\n      <td>0</td>\n      <td>ENSG00000198062.15</td>\n      <td>ENST00000343518.11</td>\n      <td>...</td>\n      <td>3</td>\n      <td>ENSE00001788239.1</td>\n      <td>1</td>\n      <td>ENSP00000340610.6</td>\n      <td>5</td>\n      <td>HGNC:133</td>\n      <td>basic,MANE_Select,appris_principal_2,exp_conf,...</td>\n      <td>CCDS74808.1</td>\n      <td>OTTHUMG00000140314.6</td>\n      <td>OTTHUMT00000276918.5</td>\n    </tr>\n    <tr>\n      <th>3</th>\n      <td>chr22</td>\n      <td>HAVANA</td>\n      <td>CDS</td>\n      <td>15698662</td>\n      <td>15698768</td>\n      <td>NaN</td>\n      <td>+</td>\n      <td>0</td>\n      <td>ENSG00000198062.15</td>\n      <td>ENST00000343518.11</td>\n      <td>...</td>\n      <td>4</td>\n      <td>ENSE00003639359.1</td>\n      <td>1</td>\n      <td>ENSP00000340610.6</td>\n      <td>5</td>\n      <td>HGNC:133</td>\n      <td>basic,MANE_Select,appris_principal_2,exp_conf,...</td>\n      <td>CCDS74808.1</td>\n      <td>OTTHUMG00000140314.6</td>\n      <td>OTTHUMT00000276918.5</td>\n    </tr>\n    <tr>\n      <th>4</th>\n      <td>chr22</td>\n      <td>HAVANA</td>\n      <td>CDS</td>\n      <td>15700078</td>\n      <td>15700215</td>\n      <td>NaN</td>\n      <td>+</td>\n      <td>1</td>\n      <td>ENSG00000198062.15</td>\n      <td>ENST00000343518.11</td>\n      <td>...</td>\n      <td>5</td>\n      <td>ENSE00003623625.1</td>\n      <td>1</td>\n      <td>ENSP00000340610.6</td>\n      <td>5</td>\n      <td>HGNC:133</td>\n      <td>basic,MANE_Select,appris_principal_2,exp_conf,...</td>\n      <td>CCDS74808.1</td>\n      <td>OTTHUMG00000140314.6</td>\n      <td>OTTHUMT00000276918.5</td>\n    </tr>\n    <tr>\n      <th>...</th>\n      <td>...</td>\n      <td>...</td>\n      <td>...</td>\n      <td>...</td>\n      <td>...</td>\n      <td>...</td>\n      <td>...</td>\n      <td>...</td>\n      <td>...</td>\n      <td>...</td>\n      <td>...</td>\n      <td>...</td>\n      <td>...</td>\n      <td>...</td>\n      <td>...</td>\n      <td>...</td>\n      <td>...</td>\n      <td>...</td>\n      <td>...</td>\n      <td>...</td>\n      <td>...</td>\n    </tr>\n    <tr>\n      <th>3902</th>\n      <td>chr22</td>\n      <td>HAVANA</td>\n      <td>CDS</td>\n      <td>50775772</td>\n      <td>50775851</td>\n      <td>NaN</td>\n      <td>-</td>\n      <td>2</td>\n      <td>ENSG00000079974.18</td>\n      <td>ENST00000395598.7</td>\n      <td>...</td>\n      <td>5</td>\n      <td>ENSE00003635536.1</td>\n      <td>2</td>\n      <td>ENSP00000378962.3</td>\n      <td>1</td>\n      <td>HGNC:9800</td>\n      <td>basic,appris_alternative_2,CCDS</td>\n      <td>CCDS14102.1</td>\n      <td>OTTHUMG00000150156.5</td>\n      <td>OTTHUMT00000316606.1</td>\n    </tr>\n    <tr>\n      <th>3903</th>\n      <td>chr22</td>\n      <td>HAVANA</td>\n      <td>CDS</td>\n      <td>50769905</td>\n      <td>50770016</td>\n      <td>NaN</td>\n      <td>-</td>\n      <td>0</td>\n      <td>ENSG00000079974.18</td>\n      <td>ENST00000395598.7</td>\n      <td>...</td>\n      <td>6</td>\n      <td>ENSE00002474834.1</td>\n      <td>2</td>\n      <td>ENSP00000378962.3</td>\n      <td>1</td>\n      <td>HGNC:9800</td>\n      <td>basic,appris_alternative_2,CCDS</td>\n      <td>CCDS14102.1</td>\n      <td>OTTHUMG00000150156.5</td>\n      <td>OTTHUMT00000316606.1</td>\n    </tr>\n    <tr>\n      <th>3904</th>\n      <td>chr22</td>\n      <td>HAVANA</td>\n      <td>CDS</td>\n      <td>50769455</td>\n      <td>50769549</td>\n      <td>NaN</td>\n      <td>-</td>\n      <td>2</td>\n      <td>ENSG00000079974.18</td>\n      <td>ENST00000395598.7</td>\n      <td>...</td>\n      <td>7</td>\n      <td>ENSE00002489129.1</td>\n      <td>2</td>\n      <td>ENSP00000378962.3</td>\n      <td>1</td>\n      <td>HGNC:9800</td>\n      <td>basic,appris_alternative_2,CCDS</td>\n      <td>CCDS14102.1</td>\n      <td>OTTHUMG00000150156.5</td>\n      <td>OTTHUMT00000316606.1</td>\n    </tr>\n    <tr>\n      <th>3905</th>\n      <td>chr22</td>\n      <td>HAVANA</td>\n      <td>CDS</td>\n      <td>50769041</td>\n      <td>50769124</td>\n      <td>NaN</td>\n      <td>-</td>\n      <td>0</td>\n      <td>ENSG00000079974.18</td>\n      <td>ENST00000395598.7</td>\n      <td>...</td>\n      <td>8</td>\n      <td>ENSE00003570915.1</td>\n      <td>2</td>\n      <td>ENSP00000378962.3</td>\n      <td>1</td>\n      <td>HGNC:9800</td>\n      <td>basic,appris_alternative_2,CCDS</td>\n      <td>CCDS14102.1</td>\n      <td>OTTHUMG00000150156.5</td>\n      <td>OTTHUMT00000316606.1</td>\n    </tr>\n    <tr>\n      <th>3906</th>\n      <td>chr22</td>\n      <td>HAVANA</td>\n      <td>CDS</td>\n      <td>50768779</td>\n      <td>50768874</td>\n      <td>NaN</td>\n      <td>-</td>\n      <td>0</td>\n      <td>ENSG00000079974.18</td>\n      <td>ENST00000395598.7</td>\n      <td>...</td>\n      <td>9</td>\n      <td>ENSE00003666330.1</td>\n      <td>2</td>\n      <td>ENSP00000378962.3</td>\n      <td>1</td>\n      <td>HGNC:9800</td>\n      <td>basic,appris_alternative_2,CCDS</td>\n      <td>CCDS14102.1</td>\n      <td>OTTHUMG00000150156.5</td>\n      <td>OTTHUMT00000316606.1</td>\n    </tr>\n  </tbody>\n</table>\n<p>3907 rows × 24 columns</p>\n</div>"
     },
     "metadata": {},
     "execution_count": 14
    }
   ],
   "source": [
    "df"
   ]
  },
  {
   "cell_type": "code",
   "execution_count": 18,
   "metadata": {},
   "outputs": [],
   "source": [
    "sorted_df = df.sort_values(by=[\"gene_name\", \"start\" , \"end\"])"
   ]
  },
  {
   "cell_type": "code",
   "execution_count": 19,
   "metadata": {},
   "outputs": [
    {
     "output_type": "execute_result",
     "data": {
      "text/plain": [
       "     seqname  source feature     start       end  score strand frame  \\\n",
       "3036   chr22  HAVANA     CDS  42692893  42693951    NaN      -     0   \n",
       "2825   chr22  HAVANA     CDS  41469147  41469182    NaN      +     0   \n",
       "2826   chr22  HAVANA     CDS  41499726  41499862    NaN      +     0   \n",
       "2827   chr22  HAVANA     CDS  41507791  41508049    NaN      +     1   \n",
       "2828   chr22  HAVANA     CDS  41511876  41511968    NaN      +     0   \n",
       "...      ...     ...     ...       ...       ...    ...    ...   ...   \n",
       "1207   chr22  HAVANA     CDS  29044780  29044890    NaN      +     0   \n",
       "1208   chr22  HAVANA     CDS  29046716  29046883    NaN      +     0   \n",
       "1209   chr22  HAVANA     CDS  29048389  29048491    NaN      +     0   \n",
       "1210   chr22  HAVANA     CDS  29049197  29050948    NaN      +     2   \n",
       "1211   chr22  HAVANA     CDS  29053579  29053619    NaN      +     2   \n",
       "\n",
       "                 gene_id      transcript_id  ... exon_number  \\\n",
       "3036  ENSG00000128274.17  ENST00000642412.2  ...           3   \n",
       "2825  ENSG00000100412.17  ENST00000216254.9  ...           1   \n",
       "2826  ENSG00000100412.17  ENST00000216254.9  ...           2   \n",
       "2827  ENSG00000100412.17  ENST00000216254.9  ...           3   \n",
       "2828  ENSG00000100412.17  ENST00000216254.9  ...           4   \n",
       "...                  ...                ...  ...         ...   \n",
       "1207  ENSG00000183579.16  ENST00000544604.7  ...           5   \n",
       "1208  ENSG00000183579.16  ENST00000544604.7  ...           6   \n",
       "1209  ENSG00000183579.16  ENST00000544604.7  ...           7   \n",
       "1210  ENSG00000183579.16  ENST00000544604.7  ...           8   \n",
       "1211  ENSG00000183579.16  ENST00000544604.7  ...           9   \n",
       "\n",
       "                exon_id level         protein_id transcript_support_level  \\\n",
       "3036  ENSE00001488045.3     2  ENSP00000494127.1                            \n",
       "2825  ENSE00001340994.4     2  ENSP00000216254.4                        1   \n",
       "2826  ENSE00001176200.3     2  ENSP00000216254.4                        1   \n",
       "2827  ENSE00003562818.1     2  ENSP00000216254.4                        1   \n",
       "2828  ENSE00003535455.1     2  ENSP00000216254.4                        1   \n",
       "...                 ...   ...                ...                      ...   \n",
       "1207  ENSE00001322179.1     2  ENSP00000443824.2                        1   \n",
       "1208  ENSE00001309159.1     2  ENSP00000443824.2                        1   \n",
       "1209  ENSE00001325812.1     2  ENSP00000443824.2                        1   \n",
       "1210  ENSE00001308098.1     2  ENSP00000443824.2                        1   \n",
       "1211  ENSE00001427475.2     2  ENSP00000443824.2                        1   \n",
       "\n",
       "         hgnc_id                                        tag       ccdsid  \\\n",
       "3036  HGNC:18149  basic,MANE_Select,appris_principal_1,CCDS  CCDS14041.1   \n",
       "2825    HGNC:118  basic,MANE_Select,appris_principal_1,CCDS  CCDS14017.1   \n",
       "2826    HGNC:118  basic,MANE_Select,appris_principal_1,CCDS  CCDS14017.1   \n",
       "2827    HGNC:118  basic,MANE_Select,appris_principal_1,CCDS  CCDS14017.1   \n",
       "2828    HGNC:118  basic,MANE_Select,appris_principal_1,CCDS  CCDS14017.1   \n",
       "...          ...                                        ...          ...   \n",
       "1207  HGNC:18126  basic,MANE_Select,appris_principal_1,CCDS  CCDS56225.1   \n",
       "1208  HGNC:18126  basic,MANE_Select,appris_principal_1,CCDS  CCDS56225.1   \n",
       "1209  HGNC:18126  basic,MANE_Select,appris_principal_1,CCDS  CCDS56225.1   \n",
       "1210  HGNC:18126  basic,MANE_Select,appris_principal_1,CCDS  CCDS56225.1   \n",
       "1211  HGNC:18126  basic,MANE_Select,appris_principal_1,CCDS  CCDS56225.1   \n",
       "\n",
       "               havana_gene     havana_transcript  \n",
       "3036  OTTHUMG00000150744.7  OTTHUMT00000319914.5  \n",
       "2825  OTTHUMG00000030544.4  OTTHUMT00000259151.2  \n",
       "2826  OTTHUMG00000030544.4  OTTHUMT00000259151.2  \n",
       "2827  OTTHUMG00000030544.4  OTTHUMT00000259151.2  \n",
       "2828  OTTHUMG00000030544.4  OTTHUMT00000259151.2  \n",
       "...                    ...                   ...  \n",
       "1207  OTTHUMG00000151009.3  OTTHUMT00000320943.3  \n",
       "1208  OTTHUMG00000151009.3  OTTHUMT00000320943.3  \n",
       "1209  OTTHUMG00000151009.3  OTTHUMT00000320943.3  \n",
       "1210  OTTHUMG00000151009.3  OTTHUMT00000320943.3  \n",
       "1211  OTTHUMG00000151009.3  OTTHUMT00000320943.3  \n",
       "\n",
       "[3907 rows x 24 columns]"
      ],
      "text/html": "<div>\n<style scoped>\n    .dataframe tbody tr th:only-of-type {\n        vertical-align: middle;\n    }\n\n    .dataframe tbody tr th {\n        vertical-align: top;\n    }\n\n    .dataframe thead th {\n        text-align: right;\n    }\n</style>\n<table border=\"1\" class=\"dataframe\">\n  <thead>\n    <tr style=\"text-align: right;\">\n      <th></th>\n      <th>seqname</th>\n      <th>source</th>\n      <th>feature</th>\n      <th>start</th>\n      <th>end</th>\n      <th>score</th>\n      <th>strand</th>\n      <th>frame</th>\n      <th>gene_id</th>\n      <th>transcript_id</th>\n      <th>...</th>\n      <th>exon_number</th>\n      <th>exon_id</th>\n      <th>level</th>\n      <th>protein_id</th>\n      <th>transcript_support_level</th>\n      <th>hgnc_id</th>\n      <th>tag</th>\n      <th>ccdsid</th>\n      <th>havana_gene</th>\n      <th>havana_transcript</th>\n    </tr>\n  </thead>\n  <tbody>\n    <tr>\n      <th>3036</th>\n      <td>chr22</td>\n      <td>HAVANA</td>\n      <td>CDS</td>\n      <td>42692893</td>\n      <td>42693951</td>\n      <td>NaN</td>\n      <td>-</td>\n      <td>0</td>\n      <td>ENSG00000128274.17</td>\n      <td>ENST00000642412.2</td>\n      <td>...</td>\n      <td>3</td>\n      <td>ENSE00001488045.3</td>\n      <td>2</td>\n      <td>ENSP00000494127.1</td>\n      <td></td>\n      <td>HGNC:18149</td>\n      <td>basic,MANE_Select,appris_principal_1,CCDS</td>\n      <td>CCDS14041.1</td>\n      <td>OTTHUMG00000150744.7</td>\n      <td>OTTHUMT00000319914.5</td>\n    </tr>\n    <tr>\n      <th>2825</th>\n      <td>chr22</td>\n      <td>HAVANA</td>\n      <td>CDS</td>\n      <td>41469147</td>\n      <td>41469182</td>\n      <td>NaN</td>\n      <td>+</td>\n      <td>0</td>\n      <td>ENSG00000100412.17</td>\n      <td>ENST00000216254.9</td>\n      <td>...</td>\n      <td>1</td>\n      <td>ENSE00001340994.4</td>\n      <td>2</td>\n      <td>ENSP00000216254.4</td>\n      <td>1</td>\n      <td>HGNC:118</td>\n      <td>basic,MANE_Select,appris_principal_1,CCDS</td>\n      <td>CCDS14017.1</td>\n      <td>OTTHUMG00000030544.4</td>\n      <td>OTTHUMT00000259151.2</td>\n    </tr>\n    <tr>\n      <th>2826</th>\n      <td>chr22</td>\n      <td>HAVANA</td>\n      <td>CDS</td>\n      <td>41499726</td>\n      <td>41499862</td>\n      <td>NaN</td>\n      <td>+</td>\n      <td>0</td>\n      <td>ENSG00000100412.17</td>\n      <td>ENST00000216254.9</td>\n      <td>...</td>\n      <td>2</td>\n      <td>ENSE00001176200.3</td>\n      <td>2</td>\n      <td>ENSP00000216254.4</td>\n      <td>1</td>\n      <td>HGNC:118</td>\n      <td>basic,MANE_Select,appris_principal_1,CCDS</td>\n      <td>CCDS14017.1</td>\n      <td>OTTHUMG00000030544.4</td>\n      <td>OTTHUMT00000259151.2</td>\n    </tr>\n    <tr>\n      <th>2827</th>\n      <td>chr22</td>\n      <td>HAVANA</td>\n      <td>CDS</td>\n      <td>41507791</td>\n      <td>41508049</td>\n      <td>NaN</td>\n      <td>+</td>\n      <td>1</td>\n      <td>ENSG00000100412.17</td>\n      <td>ENST00000216254.9</td>\n      <td>...</td>\n      <td>3</td>\n      <td>ENSE00003562818.1</td>\n      <td>2</td>\n      <td>ENSP00000216254.4</td>\n      <td>1</td>\n      <td>HGNC:118</td>\n      <td>basic,MANE_Select,appris_principal_1,CCDS</td>\n      <td>CCDS14017.1</td>\n      <td>OTTHUMG00000030544.4</td>\n      <td>OTTHUMT00000259151.2</td>\n    </tr>\n    <tr>\n      <th>2828</th>\n      <td>chr22</td>\n      <td>HAVANA</td>\n      <td>CDS</td>\n      <td>41511876</td>\n      <td>41511968</td>\n      <td>NaN</td>\n      <td>+</td>\n      <td>0</td>\n      <td>ENSG00000100412.17</td>\n      <td>ENST00000216254.9</td>\n      <td>...</td>\n      <td>4</td>\n      <td>ENSE00003535455.1</td>\n      <td>2</td>\n      <td>ENSP00000216254.4</td>\n      <td>1</td>\n      <td>HGNC:118</td>\n      <td>basic,MANE_Select,appris_principal_1,CCDS</td>\n      <td>CCDS14017.1</td>\n      <td>OTTHUMG00000030544.4</td>\n      <td>OTTHUMT00000259151.2</td>\n    </tr>\n    <tr>\n      <th>...</th>\n      <td>...</td>\n      <td>...</td>\n      <td>...</td>\n      <td>...</td>\n      <td>...</td>\n      <td>...</td>\n      <td>...</td>\n      <td>...</td>\n      <td>...</td>\n      <td>...</td>\n      <td>...</td>\n      <td>...</td>\n      <td>...</td>\n      <td>...</td>\n      <td>...</td>\n      <td>...</td>\n      <td>...</td>\n      <td>...</td>\n      <td>...</td>\n      <td>...</td>\n      <td>...</td>\n    </tr>\n    <tr>\n      <th>1207</th>\n      <td>chr22</td>\n      <td>HAVANA</td>\n      <td>CDS</td>\n      <td>29044780</td>\n      <td>29044890</td>\n      <td>NaN</td>\n      <td>+</td>\n      <td>0</td>\n      <td>ENSG00000183579.16</td>\n      <td>ENST00000544604.7</td>\n      <td>...</td>\n      <td>5</td>\n      <td>ENSE00001322179.1</td>\n      <td>2</td>\n      <td>ENSP00000443824.2</td>\n      <td>1</td>\n      <td>HGNC:18126</td>\n      <td>basic,MANE_Select,appris_principal_1,CCDS</td>\n      <td>CCDS56225.1</td>\n      <td>OTTHUMG00000151009.3</td>\n      <td>OTTHUMT00000320943.3</td>\n    </tr>\n    <tr>\n      <th>1208</th>\n      <td>chr22</td>\n      <td>HAVANA</td>\n      <td>CDS</td>\n      <td>29046716</td>\n      <td>29046883</td>\n      <td>NaN</td>\n      <td>+</td>\n      <td>0</td>\n      <td>ENSG00000183579.16</td>\n      <td>ENST00000544604.7</td>\n      <td>...</td>\n      <td>6</td>\n      <td>ENSE00001309159.1</td>\n      <td>2</td>\n      <td>ENSP00000443824.2</td>\n      <td>1</td>\n      <td>HGNC:18126</td>\n      <td>basic,MANE_Select,appris_principal_1,CCDS</td>\n      <td>CCDS56225.1</td>\n      <td>OTTHUMG00000151009.3</td>\n      <td>OTTHUMT00000320943.3</td>\n    </tr>\n    <tr>\n      <th>1209</th>\n      <td>chr22</td>\n      <td>HAVANA</td>\n      <td>CDS</td>\n      <td>29048389</td>\n      <td>29048491</td>\n      <td>NaN</td>\n      <td>+</td>\n      <td>0</td>\n      <td>ENSG00000183579.16</td>\n      <td>ENST00000544604.7</td>\n      <td>...</td>\n      <td>7</td>\n      <td>ENSE00001325812.1</td>\n      <td>2</td>\n      <td>ENSP00000443824.2</td>\n      <td>1</td>\n      <td>HGNC:18126</td>\n      <td>basic,MANE_Select,appris_principal_1,CCDS</td>\n      <td>CCDS56225.1</td>\n      <td>OTTHUMG00000151009.3</td>\n      <td>OTTHUMT00000320943.3</td>\n    </tr>\n    <tr>\n      <th>1210</th>\n      <td>chr22</td>\n      <td>HAVANA</td>\n      <td>CDS</td>\n      <td>29049197</td>\n      <td>29050948</td>\n      <td>NaN</td>\n      <td>+</td>\n      <td>2</td>\n      <td>ENSG00000183579.16</td>\n      <td>ENST00000544604.7</td>\n      <td>...</td>\n      <td>8</td>\n      <td>ENSE00001308098.1</td>\n      <td>2</td>\n      <td>ENSP00000443824.2</td>\n      <td>1</td>\n      <td>HGNC:18126</td>\n      <td>basic,MANE_Select,appris_principal_1,CCDS</td>\n      <td>CCDS56225.1</td>\n      <td>OTTHUMG00000151009.3</td>\n      <td>OTTHUMT00000320943.3</td>\n    </tr>\n    <tr>\n      <th>1211</th>\n      <td>chr22</td>\n      <td>HAVANA</td>\n      <td>CDS</td>\n      <td>29053579</td>\n      <td>29053619</td>\n      <td>NaN</td>\n      <td>+</td>\n      <td>2</td>\n      <td>ENSG00000183579.16</td>\n      <td>ENST00000544604.7</td>\n      <td>...</td>\n      <td>9</td>\n      <td>ENSE00001427475.2</td>\n      <td>2</td>\n      <td>ENSP00000443824.2</td>\n      <td>1</td>\n      <td>HGNC:18126</td>\n      <td>basic,MANE_Select,appris_principal_1,CCDS</td>\n      <td>CCDS56225.1</td>\n      <td>OTTHUMG00000151009.3</td>\n      <td>OTTHUMT00000320943.3</td>\n    </tr>\n  </tbody>\n</table>\n<p>3907 rows × 24 columns</p>\n</div>"
     },
     "metadata": {},
     "execution_count": 19
    }
   ],
   "source": [
    "sorted_df"
   ]
  },
  {
   "cell_type": "code",
   "execution_count": 21,
   "metadata": {},
   "outputs": [],
   "source": [
    "sorted_df.to_csv(\"testingnewannotations.csv\")"
   ]
  },
  {
   "cell_type": "code",
   "execution_count": 23,
   "metadata": {},
   "outputs": [],
   "source": [
    "start_end_strand=sorted_df[[\"start\",\"end\",\"strand\",\"gene_name\",\"transcript_name\"]]"
   ]
  },
  {
   "cell_type": "code",
   "execution_count": 24,
   "metadata": {},
   "outputs": [
    {
     "output_type": "stream",
     "name": "stdout",
     "text": [
      "Count of unique value sin each column :\nstart              3884\nend                3883\nstrand                2\ngene_name           408\ntranscript_name     408\ndtype: int64\n"
     ]
    }
   ],
   "source": [
    "uniqueValues = start_end_strand.nunique()\n",
    "print('Count of unique value sin each column :')\n",
    "print(uniqueValues)"
   ]
  },
  {
   "cell_type": "code",
   "execution_count": 25,
   "metadata": {},
   "outputs": [
    {
     "output_type": "stream",
     "name": "stdout",
     "text": [
      "         start       end strand gene_name transcript_name\n3036  42692893  42693951      -    A4GALT      A4GALT-206\n2825  41469147  41469182      +      ACO2        ACO2-201\n2826  41499726  41499862      +      ACO2        ACO2-201\n2827  41507791  41508049      +      ACO2        ACO2-201\n2828  41511876  41511968      +      ACO2        ACO2-201\n...        ...       ...    ...       ...             ...\n1207  29044780  29044890      +     ZNRF3       ZNRF3-203\n1208  29046716  29046883      +     ZNRF3       ZNRF3-203\n1209  29048389  29048491      +     ZNRF3       ZNRF3-203\n1210  29049197  29050948      +     ZNRF3       ZNRF3-203\n1211  29053579  29053619      +     ZNRF3       ZNRF3-203\n\n[3907 rows x 5 columns]\n"
     ]
    }
   ],
   "source": [
    "print(start_end_strand)"
   ]
  },
  {
   "cell_type": "code",
   "execution_count": 35,
   "metadata": {},
   "outputs": [],
   "source": [
    "Dictionary = { \"Protein Name\": [], \"Protein Seq\" :[] , \"Mass\":[] }\n"
   ]
  },
  {
   "cell_type": "code",
   "execution_count": 27,
   "metadata": {},
   "outputs": [
    {
     "output_type": "stream",
     "name": "stdout",
     "text": [
      "42692893\n42693951\n"
     ]
    }
   ],
   "source": [
    "print(start_end_strand['start'].iloc[0])\n",
    "print(start_end_strand['end'].iloc[0])"
   ]
  },
  {
   "cell_type": "code",
   "execution_count": 28,
   "metadata": {},
   "outputs": [
    {
     "output_type": "stream",
     "name": "stderr",
     "text": [
      "INFO:numexpr.utils:Note: NumExpr detected 12 cores but \"NUMEXPR_MAX_THREADS\" not set, so enforcing safe limit of 8.\n",
      "INFO:numexpr.utils:NumExpr defaulting to 8 threads.\n",
      "42692892\n",
      "42693950\n",
      "C:\\Users\\omars\\anaconda3\\lib\\site-packages\\pandas\\core\\indexing.py:1676: SettingWithCopyWarning: \n",
      "A value is trying to be set on a copy of a slice from a DataFrame.\n",
      "Try using .loc[row_indexer,col_indexer] = value instead\n",
      "\n",
      "See the caveats in the documentation: https://pandas.pydata.org/pandas-docs/stable/user_guide/indexing.html#returning-a-view-versus-a-copy\n",
      "  self._setitem_single_column(ilocs[0], value, pi)\n"
     ]
    }
   ],
   "source": [
    "start_end_strand.loc[:, \"start\"] -= 1\n",
    "start_end_strand.loc[:, \"end\"] -= 1\n",
    "print(start_end_strand['start'].iloc[0])\n",
    "print(start_end_strand['end'].iloc[0])"
   ]
  },
  {
   "cell_type": "code",
   "execution_count": 29,
   "metadata": {},
   "outputs": [
    {
     "output_type": "stream",
     "name": "stdout",
     "text": [
      "3907\n"
     ]
    }
   ],
   "source": [
    "print(len(start_end_strand))"
   ]
  },
  {
   "cell_type": "code",
   "execution_count": 36,
   "metadata": {
    "tags": []
   },
   "outputs": [],
   "source": [
    "Protein=[]\n",
    "Gene_Region=[]\n",
    "for i in range(len(start_end_strand)):\n",
    "\n",
    "    if start_end_strand['strand'].iloc[i]==\"+\":\n",
    "        Gene_Region.append( str(seq[start_end_strand['start'].iloc[i]:start_end_strand['end'].iloc[i]]) )\n",
    "\n",
    "    elif start_end_strand['strand'].iloc[i]==\"-\":\n",
    "        Gene_Region.append( str( seq[start_end_strand['start'].iloc[i]:start_end_strand['end'].iloc[i]].reverse_complement() ) )\n",
    "\n",
    "    # Break condition\n",
    "    if i == len(start_end_strand)-1:\n",
    "        Merged_Gene_Region = ''.join(Gene_Region)  # Append all sequences of coding into 1 sequence\n",
    "\n",
    "        # Check for adding trailing N-sequence to make translation correct\n",
    "        #--------------------------------\n",
    "        remainder = len(Merged_Gene_Region) % 3\n",
    "        if remainder != 0:\n",
    "            Merged_Gene_Region = Merged_Gene_Region + 'N' * (3 - remainder)\n",
    "        #------------------------------------------------------------\n",
    "        Merged_Gene_Region = Seq(Merged_Gene_Region)\n",
    "        Protein=Merged_Gene_Region.translate()\n",
    "\n",
    "        Gene_Region = [ ] # Reset Gene_Region for new protein\n",
    "        Merged_Gene_Region = [ ]\n",
    "\n",
    "        Dictionary[\"Protein Name\"].append(start_end_strand['gene_name'].iloc[i])\n",
    "        Dictionary[\"Protein Seq\"].append(Protein)\n",
    "        break\n",
    "\n",
    "    # Translating Entire Gene Condition\n",
    "    if start_end_strand['gene_name'].iloc[i] != start_end_strand['gene_name'].iloc[i+1]:\n",
    "        Merged_Gene_Region = ''.join(Gene_Region)  # Append all sequences of coding into 1 sequence\n",
    "\n",
    "        # Check for adding trailing N-sequence to make translation correct\n",
    "        #--------------------------------\n",
    "        remainder = len(Merged_Gene_Region) % 3\n",
    "        if remainder != 0:\n",
    "            Merged_Gene_Region = Merged_Gene_Region + 'N' * (3 - remainder)\n",
    "        #------------------------------------------------------------\n",
    "        Merged_Gene_Region = Seq(Merged_Gene_Region)\n",
    "        Protein=Merged_Gene_Region.translate()\n",
    "\n",
    "        Gene_Region = [ ] # Reset Gene_Region for new protein\n",
    "        Merged_Gene_Region = [ ]\n",
    "\n",
    "        Dictionary[\"Protein Name\"].append(start_end_strand['gene_name'].iloc[i])\n",
    "        Dictionary[\"Protein Seq\"].append(Protein)\n",
    "        \n",
    "\n",
    "#     print(\"%0.2f\" % molecular_weight(Gene_Region,\"DNA\"))\n",
    "#     Dictionary[\"Mass\"].append(\"%0.2f\" % molecular_weight(Gene_Region,\"DNA\")) #sha8ala bs el size bydrb\n",
    "\n",
    "\n",
    "       "
   ]
  },
  {
   "cell_type": "code",
   "execution_count": 37,
   "metadata": {},
   "outputs": [
    {
     "output_type": "stream",
     "name": "stdout",
     "text": [
      "408\n"
     ]
    }
   ],
   "source": [
    "print(len(Dictionary[\"Protein Seq\"]))"
   ]
  },
  {
   "cell_type": "code",
   "execution_count": 43,
   "metadata": {},
   "outputs": [
    {
     "output_type": "stream",
     "name": "stdout",
     "text": [
      "<Bio.SeqUtils.ProtParam.ProteinAnalysis object at 0x00000289D969F9D0>\n"
     ]
    },
    {
     "output_type": "error",
     "ename": "ValueError",
     "evalue": "'*' is not a valid unambiguous letter for protein",
     "traceback": [
      "\u001b[1;31m---------------------------------------------------------------------------\u001b[0m",
      "\u001b[1;31mValueError\u001b[0m                                Traceback (most recent call last)",
      "\u001b[1;32m<ipython-input-43-91b692befb53>\u001b[0m in \u001b[0;36m<module>\u001b[1;34m\u001b[0m\n\u001b[0;32m      2\u001b[0m \u001b[0manalysed_seq\u001b[0m \u001b[1;33m=\u001b[0m \u001b[0mProteinAnalysis\u001b[0m\u001b[1;33m(\u001b[0m\u001b[0mstr\u001b[0m\u001b[1;33m(\u001b[0m\u001b[0mprotein_seq\u001b[0m\u001b[1;33m)\u001b[0m\u001b[1;33m)\u001b[0m\u001b[1;33m\u001b[0m\u001b[1;33m\u001b[0m\u001b[0m\n\u001b[0;32m      3\u001b[0m \u001b[0mprint\u001b[0m\u001b[1;33m(\u001b[0m\u001b[0manalysed_seq\u001b[0m\u001b[1;33m)\u001b[0m\u001b[1;33m\u001b[0m\u001b[1;33m\u001b[0m\u001b[0m\n\u001b[1;32m----> 4\u001b[1;33m \u001b[0mprint\u001b[0m\u001b[1;33m(\u001b[0m\u001b[0manalysed_seq\u001b[0m\u001b[1;33m.\u001b[0m\u001b[0mmolecular_weight\u001b[0m\u001b[1;33m(\u001b[0m\u001b[1;33m)\u001b[0m\u001b[1;33m)\u001b[0m\u001b[1;33m\u001b[0m\u001b[1;33m\u001b[0m\u001b[0m\n\u001b[0m\u001b[0;32m      5\u001b[0m \u001b[1;33m\u001b[0m\u001b[0m\n\u001b[0;32m      6\u001b[0m \u001b[1;33m\u001b[0m\u001b[0m\n",
      "\u001b[1;32m~\\anaconda3\\lib\\site-packages\\Bio\\SeqUtils\\ProtParam.py\u001b[0m in \u001b[0;36mmolecular_weight\u001b[1;34m(self)\u001b[0m\n\u001b[0;32m    125\u001b[0m     \u001b[1;32mdef\u001b[0m \u001b[0mmolecular_weight\u001b[0m\u001b[1;33m(\u001b[0m\u001b[0mself\u001b[0m\u001b[1;33m)\u001b[0m\u001b[1;33m:\u001b[0m\u001b[1;33m\u001b[0m\u001b[1;33m\u001b[0m\u001b[0m\n\u001b[0;32m    126\u001b[0m         \u001b[1;34m\"\"\"Calculate MW from Protein sequence.\"\"\"\u001b[0m\u001b[1;33m\u001b[0m\u001b[1;33m\u001b[0m\u001b[0m\n\u001b[1;32m--> 127\u001b[1;33m         return molecular_weight(\n\u001b[0m\u001b[0;32m    128\u001b[0m             \u001b[0mself\u001b[0m\u001b[1;33m.\u001b[0m\u001b[0msequence\u001b[0m\u001b[1;33m,\u001b[0m \u001b[0mseq_type\u001b[0m\u001b[1;33m=\u001b[0m\u001b[1;34m\"protein\"\u001b[0m\u001b[1;33m,\u001b[0m \u001b[0mmonoisotopic\u001b[0m\u001b[1;33m=\u001b[0m\u001b[0mself\u001b[0m\u001b[1;33m.\u001b[0m\u001b[0mmonoisotopic\u001b[0m\u001b[1;33m\u001b[0m\u001b[1;33m\u001b[0m\u001b[0m\n\u001b[0;32m    129\u001b[0m         )\n",
      "\u001b[1;32m~\\anaconda3\\lib\\site-packages\\Bio\\SeqUtils\\__init__.py\u001b[0m in \u001b[0;36mmolecular_weight\u001b[1;34m(seq, seq_type, double_stranded, circular, monoisotopic)\u001b[0m\n\u001b[0;32m    377\u001b[0m             \u001b[0mweight\u001b[0m \u001b[1;33m-=\u001b[0m \u001b[0mwater\u001b[0m\u001b[1;33m\u001b[0m\u001b[1;33m\u001b[0m\u001b[0m\n\u001b[0;32m    378\u001b[0m     \u001b[1;32mexcept\u001b[0m \u001b[0mKeyError\u001b[0m \u001b[1;32mas\u001b[0m \u001b[0me\u001b[0m\u001b[1;33m:\u001b[0m\u001b[1;33m\u001b[0m\u001b[1;33m\u001b[0m\u001b[0m\n\u001b[1;32m--> 379\u001b[1;33m         raise ValueError(\n\u001b[0m\u001b[0;32m    380\u001b[0m             \u001b[1;34m\"%s is not a valid unambiguous letter for %s\"\u001b[0m \u001b[1;33m%\u001b[0m \u001b[1;33m(\u001b[0m\u001b[0me\u001b[0m\u001b[1;33m,\u001b[0m \u001b[0mseq_type\u001b[0m\u001b[1;33m)\u001b[0m\u001b[1;33m\u001b[0m\u001b[1;33m\u001b[0m\u001b[0m\n\u001b[0;32m    381\u001b[0m         ) from None\n",
      "\u001b[1;31mValueError\u001b[0m: '*' is not a valid unambiguous letter for protein"
     ]
    }
   ],
   "source": [
    "protein_seq = Dictionary['Protein Seq'][0]\n",
    "analysed_seq = ProteinAnalysis(str(protein_seq))\n",
    "print(analysed_seq)\n",
    "print(analysed_seq.molecular_weight())\n",
    "\n",
    "\n",
    "\"\"\"\n",
    "for i in range(len(Dictionary[\"Protein Seq\"])):\n",
    "    protein_seq = Dictionary['Protein Seq'][i]\n",
    "    analysed_seq = ProteinAnalysis(protein_seq)\n",
    "    # print(analysed_seq.molecular_weight())\n",
    "\"\"\""
   ]
  },
  {
   "cell_type": "code",
   "execution_count": 33,
   "metadata": {},
   "outputs": [],
   "source": [
    "header = Dictionary.keys()\n",
    "no_rows = len(Dictionary[list(header)[0]])\n",
    "\n",
    "with open('Output.csv', 'w', newline='') as csvfile:\n",
    "    csvwriter = csv.writer(csvfile, delimiter=',')\n",
    "    csvwriter.writerow(header)\n",
    "    for row in range(no_rows):\n",
    "        csvwriter.writerow([Dictionary[key][row] for key in header])"
   ]
  },
  {
   "cell_type": "code",
   "execution_count": 38,
   "metadata": {},
   "outputs": [
    {
     "output_type": "error",
     "ename": "ValueError",
     "evalue": "arrays must all be same length",
     "traceback": [
      "\u001b[1;31m---------------------------------------------------------------------------\u001b[0m",
      "\u001b[1;31mValueError\u001b[0m                                Traceback (most recent call last)",
      "\u001b[1;32m<ipython-input-38-cadba3e17ea5>\u001b[0m in \u001b[0;36m<module>\u001b[1;34m\u001b[0m\n\u001b[1;32m----> 1\u001b[1;33m \u001b[0mData\u001b[0m\u001b[1;33m=\u001b[0m\u001b[0mpd\u001b[0m\u001b[1;33m.\u001b[0m\u001b[0mDataFrame\u001b[0m\u001b[1;33m.\u001b[0m\u001b[0mfrom_dict\u001b[0m\u001b[1;33m(\u001b[0m\u001b[0mDictionary\u001b[0m\u001b[1;33m)\u001b[0m\u001b[1;33m\u001b[0m\u001b[1;33m\u001b[0m\u001b[0m\n\u001b[0m",
      "\u001b[1;32m~\\anaconda3\\lib\\site-packages\\pandas\\core\\frame.py\u001b[0m in \u001b[0;36mfrom_dict\u001b[1;34m(cls, data, orient, dtype, columns)\u001b[0m\n\u001b[0;32m   1371\u001b[0m             \u001b[1;32mraise\u001b[0m \u001b[0mValueError\u001b[0m\u001b[1;33m(\u001b[0m\u001b[1;34m\"only recognize index or columns for orient\"\u001b[0m\u001b[1;33m)\u001b[0m\u001b[1;33m\u001b[0m\u001b[1;33m\u001b[0m\u001b[0m\n\u001b[0;32m   1372\u001b[0m \u001b[1;33m\u001b[0m\u001b[0m\n\u001b[1;32m-> 1373\u001b[1;33m         \u001b[1;32mreturn\u001b[0m \u001b[0mcls\u001b[0m\u001b[1;33m(\u001b[0m\u001b[0mdata\u001b[0m\u001b[1;33m,\u001b[0m \u001b[0mindex\u001b[0m\u001b[1;33m=\u001b[0m\u001b[0mindex\u001b[0m\u001b[1;33m,\u001b[0m \u001b[0mcolumns\u001b[0m\u001b[1;33m=\u001b[0m\u001b[0mcolumns\u001b[0m\u001b[1;33m,\u001b[0m \u001b[0mdtype\u001b[0m\u001b[1;33m=\u001b[0m\u001b[0mdtype\u001b[0m\u001b[1;33m)\u001b[0m\u001b[1;33m\u001b[0m\u001b[1;33m\u001b[0m\u001b[0m\n\u001b[0m\u001b[0;32m   1374\u001b[0m \u001b[1;33m\u001b[0m\u001b[0m\n\u001b[0;32m   1375\u001b[0m     def to_numpy(\n",
      "\u001b[1;32m~\\anaconda3\\lib\\site-packages\\pandas\\core\\frame.py\u001b[0m in \u001b[0;36m__init__\u001b[1;34m(self, data, index, columns, dtype, copy)\u001b[0m\n\u001b[0;32m    527\u001b[0m \u001b[1;33m\u001b[0m\u001b[0m\n\u001b[0;32m    528\u001b[0m         \u001b[1;32melif\u001b[0m \u001b[0misinstance\u001b[0m\u001b[1;33m(\u001b[0m\u001b[0mdata\u001b[0m\u001b[1;33m,\u001b[0m \u001b[0mdict\u001b[0m\u001b[1;33m)\u001b[0m\u001b[1;33m:\u001b[0m\u001b[1;33m\u001b[0m\u001b[1;33m\u001b[0m\u001b[0m\n\u001b[1;32m--> 529\u001b[1;33m             \u001b[0mmgr\u001b[0m \u001b[1;33m=\u001b[0m \u001b[0minit_dict\u001b[0m\u001b[1;33m(\u001b[0m\u001b[0mdata\u001b[0m\u001b[1;33m,\u001b[0m \u001b[0mindex\u001b[0m\u001b[1;33m,\u001b[0m \u001b[0mcolumns\u001b[0m\u001b[1;33m,\u001b[0m \u001b[0mdtype\u001b[0m\u001b[1;33m=\u001b[0m\u001b[0mdtype\u001b[0m\u001b[1;33m)\u001b[0m\u001b[1;33m\u001b[0m\u001b[1;33m\u001b[0m\u001b[0m\n\u001b[0m\u001b[0;32m    530\u001b[0m         \u001b[1;32melif\u001b[0m \u001b[0misinstance\u001b[0m\u001b[1;33m(\u001b[0m\u001b[0mdata\u001b[0m\u001b[1;33m,\u001b[0m \u001b[0mma\u001b[0m\u001b[1;33m.\u001b[0m\u001b[0mMaskedArray\u001b[0m\u001b[1;33m)\u001b[0m\u001b[1;33m:\u001b[0m\u001b[1;33m\u001b[0m\u001b[1;33m\u001b[0m\u001b[0m\n\u001b[0;32m    531\u001b[0m             \u001b[1;32mimport\u001b[0m \u001b[0mnumpy\u001b[0m\u001b[1;33m.\u001b[0m\u001b[0mma\u001b[0m\u001b[1;33m.\u001b[0m\u001b[0mmrecords\u001b[0m \u001b[1;32mas\u001b[0m \u001b[0mmrecords\u001b[0m\u001b[1;33m\u001b[0m\u001b[1;33m\u001b[0m\u001b[0m\n",
      "\u001b[1;32m~\\anaconda3\\lib\\site-packages\\pandas\\core\\internals\\construction.py\u001b[0m in \u001b[0;36minit_dict\u001b[1;34m(data, index, columns, dtype)\u001b[0m\n\u001b[0;32m    285\u001b[0m             \u001b[0marr\u001b[0m \u001b[1;32mif\u001b[0m \u001b[1;32mnot\u001b[0m \u001b[0mis_datetime64tz_dtype\u001b[0m\u001b[1;33m(\u001b[0m\u001b[0marr\u001b[0m\u001b[1;33m)\u001b[0m \u001b[1;32melse\u001b[0m \u001b[0marr\u001b[0m\u001b[1;33m.\u001b[0m\u001b[0mcopy\u001b[0m\u001b[1;33m(\u001b[0m\u001b[1;33m)\u001b[0m \u001b[1;32mfor\u001b[0m \u001b[0marr\u001b[0m \u001b[1;32min\u001b[0m \u001b[0marrays\u001b[0m\u001b[1;33m\u001b[0m\u001b[1;33m\u001b[0m\u001b[0m\n\u001b[0;32m    286\u001b[0m         ]\n\u001b[1;32m--> 287\u001b[1;33m     \u001b[1;32mreturn\u001b[0m \u001b[0marrays_to_mgr\u001b[0m\u001b[1;33m(\u001b[0m\u001b[0marrays\u001b[0m\u001b[1;33m,\u001b[0m \u001b[0mdata_names\u001b[0m\u001b[1;33m,\u001b[0m \u001b[0mindex\u001b[0m\u001b[1;33m,\u001b[0m \u001b[0mcolumns\u001b[0m\u001b[1;33m,\u001b[0m \u001b[0mdtype\u001b[0m\u001b[1;33m=\u001b[0m\u001b[0mdtype\u001b[0m\u001b[1;33m)\u001b[0m\u001b[1;33m\u001b[0m\u001b[1;33m\u001b[0m\u001b[0m\n\u001b[0m\u001b[0;32m    288\u001b[0m \u001b[1;33m\u001b[0m\u001b[0m\n\u001b[0;32m    289\u001b[0m \u001b[1;33m\u001b[0m\u001b[0m\n",
      "\u001b[1;32m~\\anaconda3\\lib\\site-packages\\pandas\\core\\internals\\construction.py\u001b[0m in \u001b[0;36marrays_to_mgr\u001b[1;34m(arrays, arr_names, index, columns, dtype, verify_integrity)\u001b[0m\n\u001b[0;32m     78\u001b[0m         \u001b[1;31m# figure out the index, if necessary\u001b[0m\u001b[1;33m\u001b[0m\u001b[1;33m\u001b[0m\u001b[1;33m\u001b[0m\u001b[0m\n\u001b[0;32m     79\u001b[0m         \u001b[1;32mif\u001b[0m \u001b[0mindex\u001b[0m \u001b[1;32mis\u001b[0m \u001b[1;32mNone\u001b[0m\u001b[1;33m:\u001b[0m\u001b[1;33m\u001b[0m\u001b[1;33m\u001b[0m\u001b[0m\n\u001b[1;32m---> 80\u001b[1;33m             \u001b[0mindex\u001b[0m \u001b[1;33m=\u001b[0m \u001b[0mextract_index\u001b[0m\u001b[1;33m(\u001b[0m\u001b[0marrays\u001b[0m\u001b[1;33m)\u001b[0m\u001b[1;33m\u001b[0m\u001b[1;33m\u001b[0m\u001b[0m\n\u001b[0m\u001b[0;32m     81\u001b[0m         \u001b[1;32melse\u001b[0m\u001b[1;33m:\u001b[0m\u001b[1;33m\u001b[0m\u001b[1;33m\u001b[0m\u001b[0m\n\u001b[0;32m     82\u001b[0m             \u001b[0mindex\u001b[0m \u001b[1;33m=\u001b[0m \u001b[0mensure_index\u001b[0m\u001b[1;33m(\u001b[0m\u001b[0mindex\u001b[0m\u001b[1;33m)\u001b[0m\u001b[1;33m\u001b[0m\u001b[1;33m\u001b[0m\u001b[0m\n",
      "\u001b[1;32m~\\anaconda3\\lib\\site-packages\\pandas\\core\\internals\\construction.py\u001b[0m in \u001b[0;36mextract_index\u001b[1;34m(data)\u001b[0m\n\u001b[0;32m    399\u001b[0m             \u001b[0mlengths\u001b[0m \u001b[1;33m=\u001b[0m \u001b[0mlist\u001b[0m\u001b[1;33m(\u001b[0m\u001b[0mset\u001b[0m\u001b[1;33m(\u001b[0m\u001b[0mraw_lengths\u001b[0m\u001b[1;33m)\u001b[0m\u001b[1;33m)\u001b[0m\u001b[1;33m\u001b[0m\u001b[1;33m\u001b[0m\u001b[0m\n\u001b[0;32m    400\u001b[0m             \u001b[1;32mif\u001b[0m \u001b[0mlen\u001b[0m\u001b[1;33m(\u001b[0m\u001b[0mlengths\u001b[0m\u001b[1;33m)\u001b[0m \u001b[1;33m>\u001b[0m \u001b[1;36m1\u001b[0m\u001b[1;33m:\u001b[0m\u001b[1;33m\u001b[0m\u001b[1;33m\u001b[0m\u001b[0m\n\u001b[1;32m--> 401\u001b[1;33m                 \u001b[1;32mraise\u001b[0m \u001b[0mValueError\u001b[0m\u001b[1;33m(\u001b[0m\u001b[1;34m\"arrays must all be same length\"\u001b[0m\u001b[1;33m)\u001b[0m\u001b[1;33m\u001b[0m\u001b[1;33m\u001b[0m\u001b[0m\n\u001b[0m\u001b[0;32m    402\u001b[0m \u001b[1;33m\u001b[0m\u001b[0m\n\u001b[0;32m    403\u001b[0m             \u001b[1;32mif\u001b[0m \u001b[0mhave_dicts\u001b[0m\u001b[1;33m:\u001b[0m\u001b[1;33m\u001b[0m\u001b[1;33m\u001b[0m\u001b[0m\n",
      "\u001b[1;31mValueError\u001b[0m: arrays must all be same length"
     ]
    }
   ],
   "source": [
    "Data=pd.DataFrame.from_dict(Dictionary)\n"
   ]
  }
 ],
 "metadata": {
  "kernelspec": {
   "name": "python3",
   "display_name": "Python 3.8.5 64-bit ('base': conda)"
  },
  "language_info": {
   "codemirror_mode": {
    "name": "ipython",
    "version": 3
   },
   "file_extension": ".py",
   "mimetype": "text/x-python",
   "name": "python",
   "nbconvert_exporter": "python",
   "pygments_lexer": "ipython3",
   "version": "3.8.5"
  },
  "interpreter": {
   "hash": "5a862fa755b339cb269ec5ceb6e73837f63b6953002ae94843c7ff6941dd7636"
  }
 },
 "nbformat": 4,
 "nbformat_minor": 4
}